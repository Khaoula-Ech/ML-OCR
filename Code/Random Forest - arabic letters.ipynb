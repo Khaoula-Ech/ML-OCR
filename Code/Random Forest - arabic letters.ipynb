{
 "cells": [
  {
   "cell_type": "markdown",
   "id": "c3ea19fd",
   "metadata": {},
   "source": [
    "# <font  color='red'><center>Reconnaissance des lettres arabes manuscrites avec Random Forest</center></font>\n"
   ]
  },
  {
   "cell_type": "markdown",
   "id": "66d5a9b0",
   "metadata": {},
   "source": [
    "## Préparation des données"
   ]
  },
  {
   "cell_type": "code",
   "execution_count": 199,
   "id": "8997a9fa",
   "metadata": {},
   "outputs": [],
   "source": [
    "from PIL import Image\n",
    "import numpy as np\n",
    "import os\n",
    "\n",
    "# Créer une liste vide pour stocker les données d'images\n",
    "X = []\n",
    "\n",
    "# Créer une liste vide pour stocker les labels des images\n",
    "y = []\n",
    "\n",
    "# Parcourir tous les sous-dossiers de 'images'\n",
    "for root, dirs, files in os.walk('letters_arabic'):\n",
    "    # Récupérer le titre du sous-dossier (c'est-à-dire le label de chaque image)\n",
    "    label = os.path.basename(root)\n",
    "    \n",
    "    # Pour chaque fichier d'image dans le sous-dossier\n",
    "    for file in files:\n",
    "        # Charger l'image en mémoire\n",
    "        img = Image.open(os.path.join(root, file))\n",
    "        \n",
    "        # Convertir l'image en image en niveaux de gris\n",
    "        image_grayscale = img.convert('L')\n",
    "\n",
    "        # Convertir l'image en tableau NumPy et l'ajouter à la liste des données d'images\n",
    "        image_array = np.array(image_grayscale)\n",
    "        X.append(image_array)\n",
    "        \n",
    "        # Ajouter le label à la liste des labels des images\n",
    "        y.append(label)\n"
   ]
  },
  {
   "cell_type": "markdown",
   "id": "d8832c57",
   "metadata": {},
   "source": [
    "### mélange des données"
   ]
  },
  {
   "cell_type": "code",
   "execution_count": 200,
   "id": "252b4ad9",
   "metadata": {},
   "outputs": [],
   "source": [
    "import random\n",
    "# Créez une liste d'index qui correspond aux éléments de la liste\n",
    "indexes = list(range(len(X)))\n",
    "\n",
    "# Mélangez la liste d'index\n",
    "random.shuffle(indexes)\n",
    "\n",
    "# Mélangez les éléments de la liste en utilisant la liste d'index mélangée\n",
    "X = [X[i] for i in indexes]\n",
    "Y = [y[i] for i in indexes]"
   ]
  },
  {
   "cell_type": "markdown",
   "id": "14ccd9ea",
   "metadata": {},
   "source": [
    "## Prétraitement des données"
   ]
  },
  {
   "cell_type": "code",
   "execution_count": 201,
   "id": "c673b191",
   "metadata": {},
   "outputs": [],
   "source": [
    "# Convertir les listes en tableaux NumPy\n",
    "X = np.array(X)\n",
    "Y = np.array(Y)\n",
    "\n",
    "#Conversion de chaque image en tableau de 1-dimension\n",
    "X = X.reshape(len(X),-1)\n",
    "\n",
    "# normalisation des données de 0-1 \n",
    "X = X.astype(float) / 255."
   ]
  },
  {
   "cell_type": "markdown",
   "id": "5b5ab2ca",
   "metadata": {},
   "source": [
    "## Division d'ensemble des données en training et testing set"
   ]
  },
  {
   "cell_type": "code",
   "execution_count": 202,
   "id": "5fb4416b",
   "metadata": {},
   "outputs": [],
   "source": [
    "from sklearn.model_selection import train_test_split\n",
    "\n",
    "X_train, X_test, y_train, y_test = train_test_split(X, Y, test_size=0.2, random_state=100)\n"
   ]
  },
  {
   "cell_type": "markdown",
   "id": "0652f9de",
   "metadata": {},
   "source": [
    "## Entrainement du modèle Random Forest"
   ]
  },
  {
   "cell_type": "code",
   "execution_count": 203,
   "id": "c455a95b",
   "metadata": {},
   "outputs": [
    {
     "data": {
      "text/html": [
       "<style>#sk-container-id-15 {color: black;background-color: white;}#sk-container-id-15 pre{padding: 0;}#sk-container-id-15 div.sk-toggleable {background-color: white;}#sk-container-id-15 label.sk-toggleable__label {cursor: pointer;display: block;width: 100%;margin-bottom: 0;padding: 0.3em;box-sizing: border-box;text-align: center;}#sk-container-id-15 label.sk-toggleable__label-arrow:before {content: \"▸\";float: left;margin-right: 0.25em;color: #696969;}#sk-container-id-15 label.sk-toggleable__label-arrow:hover:before {color: black;}#sk-container-id-15 div.sk-estimator:hover label.sk-toggleable__label-arrow:before {color: black;}#sk-container-id-15 div.sk-toggleable__content {max-height: 0;max-width: 0;overflow: hidden;text-align: left;background-color: #f0f8ff;}#sk-container-id-15 div.sk-toggleable__content pre {margin: 0.2em;color: black;border-radius: 0.25em;background-color: #f0f8ff;}#sk-container-id-15 input.sk-toggleable__control:checked~div.sk-toggleable__content {max-height: 200px;max-width: 100%;overflow: auto;}#sk-container-id-15 input.sk-toggleable__control:checked~label.sk-toggleable__label-arrow:before {content: \"▾\";}#sk-container-id-15 div.sk-estimator input.sk-toggleable__control:checked~label.sk-toggleable__label {background-color: #d4ebff;}#sk-container-id-15 div.sk-label input.sk-toggleable__control:checked~label.sk-toggleable__label {background-color: #d4ebff;}#sk-container-id-15 input.sk-hidden--visually {border: 0;clip: rect(1px 1px 1px 1px);clip: rect(1px, 1px, 1px, 1px);height: 1px;margin: -1px;overflow: hidden;padding: 0;position: absolute;width: 1px;}#sk-container-id-15 div.sk-estimator {font-family: monospace;background-color: #f0f8ff;border: 1px dotted black;border-radius: 0.25em;box-sizing: border-box;margin-bottom: 0.5em;}#sk-container-id-15 div.sk-estimator:hover {background-color: #d4ebff;}#sk-container-id-15 div.sk-parallel-item::after {content: \"\";width: 100%;border-bottom: 1px solid gray;flex-grow: 1;}#sk-container-id-15 div.sk-label:hover label.sk-toggleable__label {background-color: #d4ebff;}#sk-container-id-15 div.sk-serial::before {content: \"\";position: absolute;border-left: 1px solid gray;box-sizing: border-box;top: 0;bottom: 0;left: 50%;z-index: 0;}#sk-container-id-15 div.sk-serial {display: flex;flex-direction: column;align-items: center;background-color: white;padding-right: 0.2em;padding-left: 0.2em;position: relative;}#sk-container-id-15 div.sk-item {position: relative;z-index: 1;}#sk-container-id-15 div.sk-parallel {display: flex;align-items: stretch;justify-content: center;background-color: white;position: relative;}#sk-container-id-15 div.sk-item::before, #sk-container-id-15 div.sk-parallel-item::before {content: \"\";position: absolute;border-left: 1px solid gray;box-sizing: border-box;top: 0;bottom: 0;left: 50%;z-index: -1;}#sk-container-id-15 div.sk-parallel-item {display: flex;flex-direction: column;z-index: 1;position: relative;background-color: white;}#sk-container-id-15 div.sk-parallel-item:first-child::after {align-self: flex-end;width: 50%;}#sk-container-id-15 div.sk-parallel-item:last-child::after {align-self: flex-start;width: 50%;}#sk-container-id-15 div.sk-parallel-item:only-child::after {width: 0;}#sk-container-id-15 div.sk-dashed-wrapped {border: 1px dashed gray;margin: 0 0.4em 0.5em 0.4em;box-sizing: border-box;padding-bottom: 0.4em;background-color: white;}#sk-container-id-15 div.sk-label label {font-family: monospace;font-weight: bold;display: inline-block;line-height: 1.2em;}#sk-container-id-15 div.sk-label-container {text-align: center;}#sk-container-id-15 div.sk-container {/* jupyter's `normalize.less` sets `[hidden] { display: none; }` but bootstrap.min.css set `[hidden] { display: none !important; }` so we also need the `!important` here to be able to override the default hidden behavior on the sphinx rendered scikit-learn.org. See: https://github.com/scikit-learn/scikit-learn/issues/21755 */display: inline-block !important;position: relative;}#sk-container-id-15 div.sk-text-repr-fallback {display: none;}</style><div id=\"sk-container-id-15\" class=\"sk-top-container\"><div class=\"sk-text-repr-fallback\"><pre>RandomForestClassifier()</pre><b>In a Jupyter environment, please rerun this cell to show the HTML representation or trust the notebook. <br />On GitHub, the HTML representation is unable to render, please try loading this page with nbviewer.org.</b></div><div class=\"sk-container\" hidden><div class=\"sk-item\"><div class=\"sk-estimator sk-toggleable\"><input class=\"sk-toggleable__control sk-hidden--visually\" id=\"sk-estimator-id-15\" type=\"checkbox\" checked><label for=\"sk-estimator-id-15\" class=\"sk-toggleable__label sk-toggleable__label-arrow\">RandomForestClassifier</label><div class=\"sk-toggleable__content\"><pre>RandomForestClassifier()</pre></div></div></div></div></div>"
      ],
      "text/plain": [
       "RandomForestClassifier()"
      ]
     },
     "execution_count": 203,
     "metadata": {},
     "output_type": "execute_result"
    }
   ],
   "source": [
    "from sklearn.ensemble import RandomForestClassifier\n",
    "\n",
    "model = RandomForestClassifier()\n",
    "\n",
    "model.fit(X_train, y_train)\n"
   ]
  },
  {
   "cell_type": "markdown",
   "id": "abdb5d5d",
   "metadata": {},
   "source": [
    "## Taux de réussite d'Entrainement"
   ]
  },
  {
   "cell_type": "code",
   "execution_count": 204,
   "id": "5fa5da36",
   "metadata": {},
   "outputs": [
    {
     "data": {
      "text/plain": [
       "0.9849492474623731"
      ]
     },
     "execution_count": 204,
     "metadata": {},
     "output_type": "execute_result"
    }
   ],
   "source": [
    "from sklearn.metrics import accuracy_score\n",
    "\n",
    "# predecting the model\n",
    "y_pred = model.predict(X_train)\n",
    "\n",
    "# accuracy of the model\n",
    "accuracy_score(y_pred, y_train)"
   ]
  },
  {
   "cell_type": "markdown",
   "id": "fb0bdc72",
   "metadata": {},
   "source": [
    "## Taux de réussite en Test"
   ]
  },
  {
   "cell_type": "code",
   "execution_count": 205,
   "id": "b621bda5",
   "metadata": {},
   "outputs": [
    {
     "data": {
      "text/plain": [
       "0.5731280615815255"
      ]
     },
     "execution_count": 205,
     "metadata": {},
     "output_type": "execute_result"
    }
   ],
   "source": [
    "# predecting the model\n",
    "y_pred1 = model.predict(X_test)\n",
    "\n",
    "# accuracy of the model\n",
    "accuracy_score(y_pred1, y_test)"
   ]
  },
  {
   "cell_type": "markdown",
   "id": "62f9c506",
   "metadata": {},
   "source": [
    "\n",
    "## <font  color='red'> Balancement du jeu de données</font>\n"
   ]
  },
  {
   "cell_type": "code",
   "execution_count": 206,
   "id": "aae51d65",
   "metadata": {},
   "outputs": [],
   "source": [
    "from imblearn.over_sampling import RandomOverSampler\n",
    "from collections import Counter\n",
    "over_sampler = RandomOverSampler(random_state=42)\n",
    "X,Y= over_sampler.fit_resample(X,Y)\n"
   ]
  },
  {
   "cell_type": "code",
   "execution_count": 207,
   "id": "dba3d6d5",
   "metadata": {},
   "outputs": [],
   "source": [
    "from sklearn.model_selection import train_test_split\n",
    "\n",
    "X_train, X_test, y_train, y_test = train_test_split(X, Y, test_size=0.2, random_state=100)\n"
   ]
  },
  {
   "cell_type": "code",
   "execution_count": 208,
   "id": "61861fdc",
   "metadata": {},
   "outputs": [
    {
     "data": {
      "text/html": [
       "<style>#sk-container-id-16 {color: black;background-color: white;}#sk-container-id-16 pre{padding: 0;}#sk-container-id-16 div.sk-toggleable {background-color: white;}#sk-container-id-16 label.sk-toggleable__label {cursor: pointer;display: block;width: 100%;margin-bottom: 0;padding: 0.3em;box-sizing: border-box;text-align: center;}#sk-container-id-16 label.sk-toggleable__label-arrow:before {content: \"▸\";float: left;margin-right: 0.25em;color: #696969;}#sk-container-id-16 label.sk-toggleable__label-arrow:hover:before {color: black;}#sk-container-id-16 div.sk-estimator:hover label.sk-toggleable__label-arrow:before {color: black;}#sk-container-id-16 div.sk-toggleable__content {max-height: 0;max-width: 0;overflow: hidden;text-align: left;background-color: #f0f8ff;}#sk-container-id-16 div.sk-toggleable__content pre {margin: 0.2em;color: black;border-radius: 0.25em;background-color: #f0f8ff;}#sk-container-id-16 input.sk-toggleable__control:checked~div.sk-toggleable__content {max-height: 200px;max-width: 100%;overflow: auto;}#sk-container-id-16 input.sk-toggleable__control:checked~label.sk-toggleable__label-arrow:before {content: \"▾\";}#sk-container-id-16 div.sk-estimator input.sk-toggleable__control:checked~label.sk-toggleable__label {background-color: #d4ebff;}#sk-container-id-16 div.sk-label input.sk-toggleable__control:checked~label.sk-toggleable__label {background-color: #d4ebff;}#sk-container-id-16 input.sk-hidden--visually {border: 0;clip: rect(1px 1px 1px 1px);clip: rect(1px, 1px, 1px, 1px);height: 1px;margin: -1px;overflow: hidden;padding: 0;position: absolute;width: 1px;}#sk-container-id-16 div.sk-estimator {font-family: monospace;background-color: #f0f8ff;border: 1px dotted black;border-radius: 0.25em;box-sizing: border-box;margin-bottom: 0.5em;}#sk-container-id-16 div.sk-estimator:hover {background-color: #d4ebff;}#sk-container-id-16 div.sk-parallel-item::after {content: \"\";width: 100%;border-bottom: 1px solid gray;flex-grow: 1;}#sk-container-id-16 div.sk-label:hover label.sk-toggleable__label {background-color: #d4ebff;}#sk-container-id-16 div.sk-serial::before {content: \"\";position: absolute;border-left: 1px solid gray;box-sizing: border-box;top: 0;bottom: 0;left: 50%;z-index: 0;}#sk-container-id-16 div.sk-serial {display: flex;flex-direction: column;align-items: center;background-color: white;padding-right: 0.2em;padding-left: 0.2em;position: relative;}#sk-container-id-16 div.sk-item {position: relative;z-index: 1;}#sk-container-id-16 div.sk-parallel {display: flex;align-items: stretch;justify-content: center;background-color: white;position: relative;}#sk-container-id-16 div.sk-item::before, #sk-container-id-16 div.sk-parallel-item::before {content: \"\";position: absolute;border-left: 1px solid gray;box-sizing: border-box;top: 0;bottom: 0;left: 50%;z-index: -1;}#sk-container-id-16 div.sk-parallel-item {display: flex;flex-direction: column;z-index: 1;position: relative;background-color: white;}#sk-container-id-16 div.sk-parallel-item:first-child::after {align-self: flex-end;width: 50%;}#sk-container-id-16 div.sk-parallel-item:last-child::after {align-self: flex-start;width: 50%;}#sk-container-id-16 div.sk-parallel-item:only-child::after {width: 0;}#sk-container-id-16 div.sk-dashed-wrapped {border: 1px dashed gray;margin: 0 0.4em 0.5em 0.4em;box-sizing: border-box;padding-bottom: 0.4em;background-color: white;}#sk-container-id-16 div.sk-label label {font-family: monospace;font-weight: bold;display: inline-block;line-height: 1.2em;}#sk-container-id-16 div.sk-label-container {text-align: center;}#sk-container-id-16 div.sk-container {/* jupyter's `normalize.less` sets `[hidden] { display: none; }` but bootstrap.min.css set `[hidden] { display: none !important; }` so we also need the `!important` here to be able to override the default hidden behavior on the sphinx rendered scikit-learn.org. See: https://github.com/scikit-learn/scikit-learn/issues/21755 */display: inline-block !important;position: relative;}#sk-container-id-16 div.sk-text-repr-fallback {display: none;}</style><div id=\"sk-container-id-16\" class=\"sk-top-container\"><div class=\"sk-text-repr-fallback\"><pre>RandomForestClassifier()</pre><b>In a Jupyter environment, please rerun this cell to show the HTML representation or trust the notebook. <br />On GitHub, the HTML representation is unable to render, please try loading this page with nbviewer.org.</b></div><div class=\"sk-container\" hidden><div class=\"sk-item\"><div class=\"sk-estimator sk-toggleable\"><input class=\"sk-toggleable__control sk-hidden--visually\" id=\"sk-estimator-id-16\" type=\"checkbox\" checked><label for=\"sk-estimator-id-16\" class=\"sk-toggleable__label sk-toggleable__label-arrow\">RandomForestClassifier</label><div class=\"sk-toggleable__content\"><pre>RandomForestClassifier()</pre></div></div></div></div></div>"
      ],
      "text/plain": [
       "RandomForestClassifier()"
      ]
     },
     "execution_count": 208,
     "metadata": {},
     "output_type": "execute_result"
    }
   ],
   "source": [
    "from sklearn.ensemble import RandomForestClassifier\n",
    "\n",
    "model = RandomForestClassifier()\n",
    "\n",
    "model.fit(X_train, y_train)\n"
   ]
  },
  {
   "cell_type": "markdown",
   "id": "fa32a815",
   "metadata": {},
   "source": [
    "## Taux de réussite d'Entrainement\n"
   ]
  },
  {
   "cell_type": "code",
   "execution_count": 209,
   "id": "717dd78a",
   "metadata": {},
   "outputs": [
    {
     "data": {
      "text/plain": [
       "0.9903622250970245"
      ]
     },
     "execution_count": 209,
     "metadata": {},
     "output_type": "execute_result"
    }
   ],
   "source": [
    "from sklearn.metrics import accuracy_score\n",
    "\n",
    "# predecting the model\n",
    "y_pred = model.predict(X_train)\n",
    "\n",
    "# accuracy of the model\n",
    "accuracy_score(y_pred, y_train)"
   ]
  },
  {
   "cell_type": "markdown",
   "id": "5ae57f9d",
   "metadata": {},
   "source": [
    "## Taux de réussite de Test\n"
   ]
  },
  {
   "cell_type": "code",
   "execution_count": 210,
   "id": "4a726f02",
   "metadata": {},
   "outputs": [
    {
     "data": {
      "text/plain": [
       "0.9750323415265201"
      ]
     },
     "execution_count": 210,
     "metadata": {},
     "output_type": "execute_result"
    }
   ],
   "source": [
    "# precting the model\n",
    "y_pred1 = model.predict(X_test)\n",
    "\n",
    "accuracy_score(y_pred1, y_test)"
   ]
  },
  {
   "cell_type": "markdown",
   "id": "4641183a",
   "metadata": {},
   "source": [
    "## Visualisation des images réelles"
   ]
  },
  {
   "cell_type": "code",
   "execution_count": 240,
   "id": "97d4a093",
   "metadata": {},
   "outputs": [],
   "source": [
    "import matplotlib.pyplot as plt  #Graphics\n",
    "\n",
    "def show_predicted_labels(images, labels):\n",
    "  # Redimensionner le tableau d'images en (n, 28, 28)\n",
    "  images = images.reshape(-1, 28, 28)\n",
    "\n",
    "  # Aplatir le tableau d'étiquettes en (n,)\n",
    "  labels = labels.flatten()\n",
    "\n",
    "  # Créer une figure avec deux lignes et cinq colonnes de sous-graphiques\n",
    "  fig, axes = plt.subplots(3, 3, figsize = (18, 18))\n",
    "\n",
    "  # Afficher chaque image dans un sous-graphique\n",
    "  for i in range(9):\n",
    "    ax = axes[i // 3][i % 3]\n",
    "    ax.imshow(images[i], cmap='gray')\n",
    "    ax.set_title(\"Predicted label: {}\".format(labels[i]))\n",
    "\n",
    "  # Ajuster les espacements entre les sous-graphiques\n",
    "  plt.tight_layout()"
   ]
  },
  {
   "cell_type": "code",
   "execution_count": 241,
   "id": "f566d071",
   "metadata": {},
   "outputs": [
    {
     "data": {
      "image/png": "[encoded data removed]",
      "text/plain": [
       "<Figure size 1296x1296 with 9 Axes>"
      ]
     },
     "metadata": {
      "needs_background": "light"
     },
     "output_type": "display_data"
    }
   ],
   "source": [
    "show_predicted_labels(X_test, y_pred1)\n"
   ]
  }
 ],
 "metadata": {
  "kernelspec": {
   "display_name": "Python 3",
   "language": "python",
   "name": "python3"
  },
  "language_info": {
   "codemirror_mode": {
    "name": "ipython",
    "version": 3
   },
   "file_extension": ".py",
   "mimetype": "text/x-python",
   "name": "python",
   "nbconvert_exporter": "python",
   "pygments_lexer": "ipython3",
   "version": "3.8.8"
  }
 },
 "nbformat": 4,
 "nbformat_minor": 5
}
