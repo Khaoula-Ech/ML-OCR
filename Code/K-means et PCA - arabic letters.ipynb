{
 "cells": [
  {
   "cell_type": "markdown",
   "id": "51e4148d",
   "metadata": {},
   "source": [
    "# <font  color='red'><center>Reconnaissance des lettres arabes manuscrites avec k-means</center></font>\n"
   ]
  },
  {
   "cell_type": "markdown",
   "id": "873dd3ca",
   "metadata": {},
   "source": [
    "## Préparation des données"
   ]
  },
  {
   "cell_type": "code",
   "execution_count": 2,
   "id": "16595202",
   "metadata": {},
   "outputs": [],
   "source": [
    "from PIL import Image\n",
    "import numpy as np\n",
    "import os\n",
    "\n",
    "# Créer une liste vide pour stocker les données d'images\n",
    "X = []\n",
    "\n",
    "# Créer une liste vide pour stocker les labels des images\n",
    "y = []\n",
    "\n",
    "# Parcourir tous les sous-dossiers de 'images'\n",
    "for root, dirs, files in os.walk('letters_arabic'):\n",
    "    # Récupérer le titre du sous-dossier (c'est-à-dire le label de chaque image)\n",
    "    label = os.path.basename(root)\n",
    "    \n",
    "    # Pour chaque fichier d'image dans le sous-dossier\n",
    "    for file in files:\n",
    "        # Charger l'image en mémoire\n",
    "        img = Image.open(os.path.join(root, file))\n",
    "        image_grayscale = img.convert('L')\n",
    "\n",
    "        # Convertir l'image en tableau NumPy en utilisant np.array()\n",
    "        image_array = np.array(image_grayscale)\n",
    "        # Convertir l'image en tableau NumPy et l'ajouter à la liste des données d'images\n",
    "        X.append(image_array)\n",
    "        \n",
    "        # Ajouter le label à la liste des labels des images\n",
    "        y.append(label)\n"
   ]
  },
  {
   "cell_type": "markdown",
   "id": "b8a897dd",
   "metadata": {},
   "source": [
    "### Mélange d'ensemble de données"
   ]
  },
  {
   "cell_type": "code",
   "execution_count": 7,
   "id": "3bca6a04",
   "metadata": {},
   "outputs": [],
   "source": [
    "import random\n",
    "\n",
    "# Créez une liste d'index qui correspond aux éléments de la liste\n",
    "indexes = list(range(len(X)))\n",
    "\n",
    "# Mélangez la liste d'index\n",
    "random.shuffle(indexes)\n",
    "\n",
    "# Mélangez les éléments de la liste en utilisant la liste d'index mélangée\n",
    "X = [X[i] for i in indexes]\n",
    "y = [y[i] for i in indexes]"
   ]
  },
  {
   "cell_type": "markdown",
   "id": "e3dd6beb",
   "metadata": {},
   "source": [
    "## Visualisation de quelques images\n"
   ]
  },
  {
   "cell_type": "code",
   "execution_count": 8,
   "id": "154cc85c",
   "metadata": {},
   "outputs": [
    {
     "name": "stderr",
     "output_type": "stream",
     "text": [
      "<ipython-input-8-e5aa11f53799>:14: UserWarning: Matplotlib is currently using module://ipykernel.pylab.backend_inline, which is a non-GUI backend, so cannot show the figure.\n",
      "  fig.show()\n"
     ]
    },
    {
     "data": {
      "image/png": "[encoded data removed]",
      "text/plain": [
       "<Figure size 864x864 with 9 Axes>"
      ]
     },
     "metadata": {
      "needs_background": "light"
     },
     "output_type": "display_data"
    }
   ],
   "source": [
    "import matplotlib.pyplot as plt\n",
    "\n",
    "# create figure with 3x3 subplots using matplotlib.pyplot\n",
    "fig, axs = plt.subplots(3, 3, figsize = (12, 12))\n",
    "plt.gray()\n",
    "\n",
    "# loop through subplots and add mnist images\n",
    "for i, ax in enumerate(axs.flat):\n",
    "    ax.matshow(X[i])\n",
    "    ax.axis('off')\n",
    "    ax.set_title('Lettre {}'.format(y[i]))\n",
    "    \n",
    "# display the figure\n",
    "fig.show()\n"
   ]
  },
  {
   "cell_type": "markdown",
   "id": "1a55c865",
   "metadata": {},
   "source": [
    "## Prétraitement des données"
   ]
  },
  {
   "cell_type": "markdown",
   "id": "5f85b00d",
   "metadata": {},
   "source": [
    "#### Encodage de la variable catégorielle y"
   ]
  },
  {
   "cell_type": "code",
   "execution_count": 9,
   "id": "be84ed8e",
   "metadata": {},
   "outputs": [
    {
     "name": "stdout",
     "output_type": "stream",
     "text": [
      "{'Alif_maqsora': 0, 'khae': 1, 'Mim_middle': 2, 'sheen_middle': 3, 'ain_end': 4, 'seen_start': 5, 'Lam_end': 6, 'Hhae_middle': 7, 'waw_end': 8, 'Mim': 9, 'Lam_start': 10, 'Hae_start': 11, 'rae_fin': 12, 'yae_end': 13, 'ain': 14, 'seen_middle': 15, 'tae_marbouta': 16, 'Noun_start': 17, 'zae': 18, 'ain_start': 19, 'Ta': 20, 'Noun_middle': 21, 'ghain': 22, 'Hamza': 23, 'Alif': 24, 'rae': 25, 'bae_start': 26, 'jeem': 27, 'waw': 28, 'sheen_start': 29, 'Lam_middle': 30, 'yae_start': 31, 'ain_middle': 32, 'Hhae_start': 33, 'Alif_fin': 34, 'Kaf_start': 35, 'Lam_alif': 36, 'seen': 37, 'Noun': 38, 'yae_middle': 39, 'Quaf': 40, 'dal': 41, 'bae': 42, 'dad_start': 43, 'tae': 44, 'Mim_start': 45, 'sad_start': 46, 'dal_fin': 47, 'Fae': 48, 'Kaf_middle': 49}\n",
      "[10, 34, 24, 15, 24, 10, 47, 13, 32, 10, 13, 5, 7, 3, 10, 7, 26, 24, 19, 11, 45, 24, 31, 7, 45, 12, 38, 2, 34, 24, 34, 45, 35, 27, 19, 30, 34, 2, 23, 26, 16, 2, 29, 14, 10, 5, 24, 10, 24, 12, 36, 9, 39, 11, 27, 33, 47, 19, 21, 20, 15, 10, 42, 39, 24, 34, 44, 5, 47, 34, 34, 36, 39, 24, 11, 3, 47, 45, 16, 33, 3, 26, 38, 39, 10, 29, 19, 15, 19, 2, 39, 34, 34, 9, 49, 34, 34, 29, 40, 6, 24, 13, 13, 24, 45, 24, 47, 34, 11, 7, 24, 24, 21, 4, 5, 16, 2, 7, 31, 45, 24, 34, 39, 26, 5, 42, 10, 10, 24, 13, 15, 37, 24, 11, 10, 3, 38, 10, 3, 47, 10, 2, 16, 2, 11, 34, 32, 10, 32, 24, 8, 7, 24, 33, 38, 19, 17, 2, 47, 23, 7, 33, 12, 8, 21, 5, 31, 10, 43, 9, 24, 44, 31, 7, 49, 11, 8, 20, 24, 12, 34, 13, 11, 26, 34, 35, 32, 34, 2, 34, 34, 30, 12, 5, 49, 11, 15, 10, 39, 38, 38, 47, 44, 17, 24, 45, 23, 38, 24, 12, 15, 8, 10, 24, 2, 3, 34, 21, 42, 23, 24, 24, 2, 23, 38, 24, 10, 15, 34, 15, 42, 32, 49, 11, 34, 20, 26, 5, 16, 26, 29, 38, 12, 6, 43, 34, 47, 5, 2, 17, 34, 23, 47, 42, 24, 27, 39, 28, 2, 24, 15, 34, 47, 47, 34, 47, 17, 15, 24, 24, 24, 47, 10, 30, 24, 24, 5, 35, 13, 24, 8, 42, 34, 2, 34, 24, 32, 11, 13, 15, 15, 10, 39, 42, 13, 31, 2, 3, 7, 10, 39, 5, 26, 39, 34, 39, 24, 10, 29, 20, 12, 24, 6, 42, 34, 5, 15, 28, 2, 44, 10, 34, 10, 34, 49, 16, 24, 24, 22, 39, 2, 34, 30, 34, 24, 7, 34, 30, 21, 39, 48, 47, 47, 12, 9, 24, 47, 17, 34, 24, 3, 26, 32, 45, 24, 10, 37, 17, 34, 25, 7, 3, 15, 19, 7, 11, 34, 24, 17, 47, 31, 3, 4, 13, 8, 47, 15, 47, 47, 2, 34, 25, 40, 24, 10, 24, 17, 17, 17, 15, 16, 24, 38, 38, 20, 13, 13, 38, 24, 2, 26, 22, 23, 9, 26, 24, 42, 24, 47, 8, 25, 24, 8, 10, 34, 5, 7, 23, 3, 24, 1, 24, 35, 26, 39, 41, 34, 17, 16, 11, 19, 24, 10, 38, 13, 15, 13, 13, 38, 24, 12, 15, 15, 25, 47, 0, 24, 5, 14, 34, 21, 38, 17, 47, 42, 31, 21, 32, 10, 34, 42, 39, 12, 28, 20, 47, 8, 24, 4, 8, 6, 39, 11, 38, 1, 33, 14, 33, 3, 20, 3, 48, 7, 11, 5, 5, 21, 24, 5, 8, 1, 34, 28, 12, 34, 9, 47, 24, 46, 2, 13, 32, 21, 6, 24, 45, 1, 39, 49, 39, 34, 6, 48, 43, 47, 34, 47, 33, 38, 34, 43, 8, 35, 48, 34, 33, 45, 34, 39, 48, 24, 24, 15, 27, 33, 46, 29, 19, 9, 44, 8, 24, 39, 17, 35, 34, 12, 20, 34, 39, 1, 5, 38, 3, 48, 29, 8, 1, 47, 24, 7, 15, 34, 30, 34, 5, 8, 21, 39, 3, 39, 35, 23, 45, 24, 15, 9, 47, 31, 24, 3, 24, 34, 35, 10, 13, 5, 24, 49, 11, 37, 32, 18, 13, 5, 24, 26, 13, 8, 20, 34, 23, 15, 24, 28, 10, 24, 47, 11, 39, 24, 2, 38, 10, 13, 33, 34, 2, 7, 38, 34, 26, 17, 10, 11, 8, 34, 19, 2, 8, 16, 24, 8, 24, 37, 34, 10, 3, 2, 24, 33, 24, 5, 24, 38, 34, 3, 41, 10, 28, 24, 12, 9, 7, 20, 13, 24, 11, 8, 31, 42, 28, 7, 29, 24, 24, 2, 7, 48, 7, 21, 8, 10, 48, 16, 34, 24, 39, 23, 12, 5, 34, 29, 9, 38, 25, 20, 34, 24, 24, 1, 10, 24, 2, 26, 49, 24, 42, 42, 23, 33, 9, 45, 23, 7, 24, 32, 24, 34, 8, 48, 40, 28, 19, 34, 10, 24, 24, 11, 10, 2, 45, 48, 11, 15, 15, 6, 8, 38, 34, 24, 29, 3, 24, 34, 3, 16, 15, 18, 11, 23, 21, 19, 5, 24, 42, 17, 34, 24, 27, 40, 26, 15, 9, 25, 38, 45, 28, 20, 17, 24, 45, 5, 24, 10, 12, 12, 24, 6, 5, 29, 24, 25, 23, 15, 48, 15, 24, 39, 27, 11, 35, 45, 32, 2, 10, 35, 24, 24, 42, 26, 25, 15, 39, 10, 29, 2, 3, 15, 38, 34, 24, 44, 31, 24, 42, 13, 34, 39, 7, 15, 10, 45, 28, 10, 47, 7, 7, 24, 49, 48, 31, 24, 35, 17, 13, 7, 11, 39, 19, 13, 42, 45, 7, 7, 24, 17, 39, 11, 44, 34, 2, 3, 3, 20, 26, 8, 6, 24, 19, 18, 49, 47, 11, 10, 25, 33, 10, 27, 21, 7, 47, 5, 29, 24, 10, 39, 2, 8, 5, 5, 47, 24, 30, 34, 37, 24, 34, 37, 20, 13, 8, 2, 26, 31, 25, 24, 25, 10, 24, 47, 44, 34, 45, 37, 10, 26, 32, 6, 16, 28, 38, 21, 38, 7, 19, 24, 17, 24, 39, 39, 29, 11, 19, 34, 11, 37, 47, 17, 35, 27, 3, 10, 28, 2, 48, 5, 37, 39, 39, 45, 20, 45, 12, 2, 29, 11, 15, 30, 19, 9, 26, 39, 15, 42, 39, 15, 24, 34, 8, 45, 24, 15, 34, 26, 24, 1, 41, 5, 11, 12, 24, 45, 47, 42, 10, 28, 34, 34, 8, 24, 38, 17, 39, 17, 15, 38, 5, 10, 38, 34, 24, 45, 39, 8, 39, 8, 7, 19, 8, 24, 41, 3, 29, 19, 28, 45, 5, 2, 34, 39, 13, 8, 11, 3, 39, 34, 10, 34, 40, 31, 28, 45, 10, 39, 8, 2, 15, 15, 10, 24, 38, 38, 15, 2, 10, 10, 0, 34, 7, 38, 26, 24, 27, 41, 42, 12, 34, 24, 11, 39, 2, 33, 3, 34, 47, 8, 26, 39, 32, 6, 13, 15, 8, 8, 38, 10, 0, 24, 39, 10, 34, 24, 32, 35, 39, 2, 24, 24, 39, 24, 23, 10, 15, 15, 48, 10, 18, 41, 39, 17, 37, 4, 24, 31, 7, 35, 47, 29, 5, 13, 16, 34, 24, 38, 2, 24, 21, 2, 3, 23, 16, 39, 1, 34, 30, 10, 47, 10, 26, 8, 1, 24, 8, 10, 39, 9, 24, 12, 49, 34, 20, 26, 26, 15, 24, 24, 30, 11, 34, 23, 31, 47, 30, 33, 34, 24, 34, 2, 7, 47, 10, 20, 42, 8, 11, 42, 41, 7, 2, 25, 37, 47, 37, 29, 27, 23, 39, 24, 24, 39, 10, 3, 15, 35, 47, 35, 10, 2, 15, 24, 47, 10, 45, 24, 39, 11, 32, 39, 3, 33, 39, 35, 10, 39, 7, 24, 18, 37, 44, 24, 12, 3, 5, 28, 26, 8, 11, 42, 10, 24, 13, 15, 1, 13, 12, 26, 29, 36, 20, 5, 6, 11, 1, 33, 25, 13, 42, 12, 34, 21, 21, 28, 15, 47, 39, 9, 34, 39, 29, 39, 5, 24, 38, 24, 33, 29, 8, 42, 45, 35, 34, 3, 47, 3, 24, 20, 20, 23, 7, 39, 38, 20, 15, 8, 21, 12, 24, 39, 47, 30, 49, 26, 38, 30, 29, 24, 10, 7, 12, 49, 20, 24, 5, 13, 24, 11, 10, 13, 24, 39, 1, 34, 38, 37, 15, 19, 34, 23, 32, 16, 24, 49, 15, 24, 24, 7, 38, 12, 39, 35, 8, 30, 33, 39, 11, 23, 34, 1, 38, 15, 2, 10, 41, 41, 24, 34, 12, 6, 42, 2, 39, 16, 26, 15, 42, 47, 24, 32, 33, 2, 2, 26, 25, 34, 25, 8, 2, 17, 35, 34, 10, 7, 34, 2, 42, 32, 6, 35, 8, 21, 8, 45, 7, 42, 45, 17, 2, 2, 28, 39, 10, 22, 34, 34, 23, 43, 1, 23, 39, 24, 23, 10, 10, 10, 11, 10, 21, 8, 25, 35, 37, 10, 24, 15, 3, 12, 24, 12, 12, 2, 17, 19, 26, 2, 1, 2, 28, 5, 26, 19, 31, 16, 11, 8, 30, 24, 47, 15, 5, 44, 12, 10, 24, 42, 39, 34, 42, 34, 26, 8, 10, 24, 7, 45, 21, 24, 5, 34, 12, 28, 40, 11, 34, 24, 43, 45, 34, 33, 11, 47, 28, 22, 39, 9, 8, 15, 20, 25, 42, 24, 24, 34, 38, 48, 10, 25, 47, 34, 40, 38, 23, 2, 34, 17, 47, 24, 39, 24, 24, 39, 37, 15, 34, 21, 15, 24, 37, 17, 21, 48, 34, 17, 24, 34, 39, 34, 20, 6, 39, 12, 21, 10, 22, 41, 24, 29, 29, 35, 34, 34, 23, 39, 24, 38, 37, 24, 35, 5, 20, 23, 38, 34, 34, 28, 17, 3, 41, 39, 41, 24, 26, 32, 2, 0, 2, 38, 38, 2, 3, 24, 32, 12, 43, 2, 34, 20, 15, 16, 20, 34, 8, 16, 10, 34, 48, 24, 33, 38, 45, 8, 8, 39, 37, 47, 0, 18, 10, 16, 17, 12, 16, 2, 10, 12, 45, 45, 35, 16, 24, 39, 24, 47, 17, 34, 49, 11, 9, 27, 43, 44, 48, 27, 10, 16, 39, 10, 11, 7, 1, 10, 16, 47, 29, 45, 34, 48, 39, 15, 20, 38, 28, 41, 20, 2, 24, 24, 43, 15, 11, 2, 24, 3, 2, 39, 34, 41, 33, 25, 42, 24, 11, 13, 3, 8, 37, 49, 7, 5, 41, 23, 38, 24, 2, 49, 5, 32, 41, 42, 5, 39, 13, 5, 38, 19, 18, 7, 3, 44, 24, 42, 24, 5, 24, 38, 2, 24, 24, 26, 16, 47, 29, 9, 41, 23, 28, 34, 3, 8, 34, 25, 13, 10, 6, 47, 26, 15, 5, 34, 10, 34, 37, 41, 24, 10, 2, 47, 5, 24, 17, 8, 1, 24, 3, 38, 15, 46, 48, 15, 5, 11, 6, 2, 10, 10, 38, 41, 5, 2, 2, 10, 39, 49, 33, 8, 31, 34, 39, 25, 31, 34, 34, 10, 13, 7, 12, 34, 34, 47, 33, 7, 10, 15, 20, 10, 34, 8, 13, 10, 1, 41, 47, 34, 34, 43, 10, 34, 23, 48, 2, 38, 42, 38, 15, 20, 45, 25, 23, 23, 34, 24, 39, 36, 47, 8, 5, 34, 10, 37, 12, 34, 22, 34, 10, 29, 5, 23, 19, 15, 45, 34, 25, 39, 3, 7, 2, 47, 24, 38, 38, 8, 24, 39, 7, 34, 24, 24, 24, 15, 24, 9, 48, 33, 24, 24, 41, 5, 38, 23, 47, 34, 15, 27, 42, 20, 26, 45, 27, 30, 27, 7, 45, 39, 20, 47, 1, 24, 24, 5, 16, 28, 13, 34, 2, 45, 35, 5, 24, 2, 5, 11, 8, 47, 34, 18, 2, 39, 39, 38, 34, 17, 8, 31, 35, 48, 29, 24, 16, 3, 20, 24, 10, 34, 5, 13, 11, 12, 8, 24, 7, 11, 13, 26, 10, 1, 46, 39, 10, 7, 24, 2, 45, 12, 34, 11, 11, 42, 39, 10, 21, 10, 24, 24, 39, 38, 32, 8, 28, 17, 7, 12, 2, 17, 32, 33, 30, 2, 5, 24, 10, 10, 47, 2, 21, 10, 39, 5, 39, 42, 39, 28, 48, 8, 1, 48, 11, 38, 10, 26, 24, 24, 31, 16, 11, 27, 48, 32, 2, 37, 39, 11, 21, 34, 10, 34, 29, 4, 20, 34, 24, 24, 6, 25, 2, 33, 11, 39, 27, 25, 13, 47, 25, 47, 38, 24, 7, 24, 20, 2, 6, 17, 8, 39, 24, 16, 15, 5, 34, 16, 17, 23, 39, 8, 1, 34, 12, 34, 42, 8, 5, 7, 5, 24, 24, 8, 34, 28, 39, 11, 39, 28, 13, 37, 38, 34, 23, 34, 15, 29, 10, 39, 8, 12, 17, 2, 15, 34, 34, 42, 42, 20, 38, 17, 24, 13, 27, 23, 28, 20, 27, 14, 10, 29, 24, 44, 34, 12, 23, 12, 8, 47, 20, 3, 21, 24, 32, 12, 13, 47, 31, 15, 5, 24, 10, 8, 34, 2, 45, 24, 21, 43, 15, 33, 5, 39, 5, 6, 20, 1, 47, 27, 23, 3, 26, 48, 34, 29, 24, 31, 45, 29, 17, 33, 12, 24, 34, 48, 21, 28, 5, 2, 25, 47, 9, 27, 33, 45, 34, 45, 7, 42, 28, 24, 15, 12, 19, 27, 24, 12, 20, 39, 24, 12, 43, 38, 37, 9, 37, 24, 10, 24, 3, 43, 18, 24, 47, 15, 11, 34, 7, 23, 10, 12, 2, 7, 24, 34, 15, 2, 8, 26, 34, 34, 25, 36, 38, 34, 8, 39, 30, 24, 10, 34, 25, 29, 17, 29, 34, 34, 45, 24, 24, 3, 13, 3, 36, 19, 40, 34, 11, 24, 3, 45, 5, 26, 24, 9, 34, 8, 19, 31, 15, 12, 11, 23, 34, 11, 1, 34, 7, 5, 31, 28, 5, 2, 1, 39, 10, 47, 34, 17, 8, 10, 3, 2, 15, 24, 21, 24, 10, 2, 24, 38, 47, 33, 5, 2, 48, 45, 15, 34, 19, 8, 9, 13, 15, 42, 38, 4, 23, 34, 35, 12, 5, 29, 48, 7, 31, 26, 47, 17, 38, 18, 20, 24, 10, 46, 17, 8, 17, 20, 7, 10, 2, 28, 33, 39, 25, 34, 17, 23, 15, 1, 23, 34, 41, 14, 5, 12, 42, 42, 15, 6, 16, 23, 2, 7, 8, 39, 15, 17, 7, 5, 47, 2, 44, 2, 24, 35, 47, 24, 47, 24, 7, 31, 45, 45, 35, 8, 47, 12, 2, 2, 9, 10, 20, 15, 7, 34, 39, 34, 45, 12, 16, 10, 10, 6, 39, 42, 34, 34, 2, 47, 37, 44, 19, 28, 15, 25, 2, 39, 20, 16, 39, 19, 34, 19, 42, 24, 12, 26, 30, 39, 13, 41, 2, 38, 10, 31, 3, 46, 5, 13, 15, 47, 13, 2, 38, 16, 10, 24, 2, 10, 24, 21, 25, 15, 10, 27, 23, 2, 29, 38, 24, 24, 34, 42, 29, 13, 23, 22, 26, 34, 47, 25, 24, 26, 41, 24, 10, 24, 7, 12, 3, 8, 34, 8, 26, 24, 5, 38, 8, 43, 13, 24, 17, 8, 42, 13, 37, 30, 23, 24, 33, 34, 12, 10, 45, 6, 8, 45, 38, 8, 10, 39, 2, 5, 17, 34, 10, 13, 45, 3, 23, 31, 22, 47, 15, 39, 11, 26, 15, 39, 34, 47, 34, 24, 2, 10, 9, 34, 2, 15, 42, 17, 24, 15, 17, 34, 33, 5, 3, 2, 10, 39, 34, 19, 9, 8, 33, 13, 17, 45, 42, 16, 41, 34, 10, 38, 24, 24, 39, 21, 39, 23, 7, 11, 13, 17, 24, 35, 19, 3, 11, 34, 36, 24, 7, 34, 21, 10, 10, 34, 37, 47, 27, 10, 2, 12, 2, 45, 2, 38, 23, 34, 23, 10, 15, 47, 24, 41, 33, 18, 11, 23, 47, 34, 39, 24, 11, 39, 47, 2, 45, 10, 24, 12, 13, 13, 24, 38, 34, 8, 10, 35, 26, 39, 24, 34, 3, 26, 24, 34, 34, 15, 16, 39, 2, 12, 12, 2, 47, 1, 13, 5, 2, 29, 43, 10, 34, 7, 2, 35, 22, 42, 33, 13, 28, 19, 48, 42, 24, 13, 24, 38, 10, 8, 1, 15, 34, 44, 39, 24, 8, 42, 2, 10, 26, 42, 34, 24, 24, 38, 2, 3, 24, 21, 25, 45, 24, 1, 42, 34, 34, 38, 47, 24, 36, 39, 27, 35, 39, 32, 11, 8, 37, 38, 31, 38, 31, 16, 26, 31, 17, 13, 8, 20, 10, 24, 23, 29, 12, 47, 14, 24, 49, 21, 17, 34, 10, 27, 15, 29, 34, 47, 13, 39, 29, 7, 28, 24, 26, 11, 10, 30, 2, 2, 8, 34, 8, 15, 13, 12, 48, 19, 19, 13, 24, 13, 39, 26, 27, 45, 26, 35, 39, 34, 41, 41, 3, 31, 24, 31, 44, 2, 35, 2, 27, 28, 20, 3, 34, 10, 27, 24, 34, 2, 46, 11, 9, 34, 8, 17, 23, 5, 13, 13, 10, 44, 15, 45, 24, 6, 11, 24, 47, 24, 38, 39, 34, 12, 36, 10, 47, 7, 24, 2, 47, 5, 45, 37, 10, 38, 10, 2, 24, 34, 1, 7, 23, 30, 7, 10, 38, 10, 8, 25, 34, 34, 10, 22, 42, 3, 8, 24, 13, 16, 24, 30, 13, 24, 24, 48, 10, 24, 24, 2, 39, 24, 10, 39, 24, 16, 47, 34, 40, 45, 21, 43, 16, 3, 24, 30, 15, 12, 10, 14, 7, 10, 45, 8, 34, 8, 38, 2, 32, 24, 47, 47, 16, 11, 39, 39, 45, 37, 10, 15, 24, 37, 10, 38, 34, 15, 24, 15, 16, 24, 41, 24, 20, 26, 8, 20, 38, 10, 20, 18, 13, 7, 36, 41, 47, 29, 5, 9, 2, 10, 15, 23, 30, 8, 46, 26, 15, 34, 24, 44, 10, 34, 38, 36, 24, 24, 24, 3, 16, 27, 3, 13, 24, 34, 16, 13, 42, 13, 5, 45, 49, 10, 34, 15, 10, 10, 39, 3, 13, 2, 47, 47, 24, 5, 16, 2, 38, 24, 37, 11, 27, 18, 8, 10, 10, 41, 33, 39, 46, 10, 43, 39, 3, 13, 23, 41, 38, 8, 23, 7, 24, 38, 11, 23, 7, 10, 19, 10, 2, 17, 37, 38, 34, 10, 24, 32, 12, 12, 10, 6, 17, 47, 9, 24, 10, 24, 24, 32, 13, 12, 25, 24, 15, 41, 25, 24, 24, 24, 12, 8, 11, 13, 9, 9, 16, 9, 34, 24, 37, 24, 10, 6, 17, 7, 7, 25, 24, 10, 24, 10, 29, 48, 22, 2, 30, 28, 42, 30, 5, 2, 0, 20, 12, 26, 2, 45, 33, 31, 2, 5, 13, 23, 24, 39, 7, 24, 24, 7, 41, 34, 30, 11, 11, 3, 7, 23, 19, 7, 42, 17, 41, 37, 24, 17, 3, 7, 4, 39, 32, 13, 25, 16, 23, 1, 16, 2, 23, 2, 10, 34, 41, 13, 26, 3, 24, 39, 2, 35, 7, 34, 10, 11, 12, 26, 34, 27, 33, 23, 12, 23, 12, 39, 2, 2, 30, 41, 5, 36, 34, 5, 24, 39, 39, 33, 3, 13, 28, 21, 17, 11, 34, 24, 24, 26, 5, 23, 10, 45, 34, 34, 37, 16, 8, 15, 23, 24, 42, 23, 45, 34, 26, 13, 34, 24, 23, 33, 15, 24, 8, 24, 20, 24, 11, 47, 20, 8, 48, 10, 9, 24, 34, 29, 39, 24, 34, 15, 3, 22, 10, 34, 8, 13, 37, 10, 24, 47, 47, 24, 8, 34, 33, 34, 12, 12, 24, 38, 47, 24, 13, 47, 10, 15, 2, 24, 45, 47, 37, 12, 34, 45, 41, 41, 14, 9, 39, 10, 8, 38, 12, 9, 33, 17, 10, 27, 38, 39, 3, 39, 42, 38, 2, 35, 38, 42, 2, 9, 9, 10, 14, 24, 10, 15, 23, 39, 38, 19, 20, 10, 10, 37, 13, 10, 8, 2, 24, 39, 3, 28, 18, 41, 8, 44, 23, 29, 39, 21, 2, 9, 21, 34, 34, 39, 48, 31, 24, 23, 39, 24, 26, 23, 13, 19, 29, 39, 47, 24, 12, 38, 8, 6, 24, 42, 11, 34, 21, 24, 9, 9, 34, 10, 32, 15, 20, 8, 15, 1, 5, 33, 23, 7, 18, 10, 15, 9, 10, 2, 32, 12, 24, 29, 47, 45, 49, 2, 30, 17, 23, 34, 39, 42, 26, 24, 34, 30, 39, 24, 17, 27, 31, 5, 11, 8, 10, 47, 38, 2, 34, 16, 5, 24, 24, 39, 3, 28, 22, 38, 2, 2, 24, 45, 16, 24, 12, 38, 24, 7, 5, 1, 24, 26, 5, 34, 16, 38, 24, 24, 15, 24, 24, 37, 34, 16, 25, 2, 2, 44, 2, 11, 3, 24, 15, 9, 24, 11, 10, 9, 24, 7, 34, 17, 10, 8, 24, 24, 38, 45, 26, 9, 10, 24, 12, 11, 24, 23, 13, 13, 34, 24, 35, 27, 18, 19, 48, 37, 25, 0, 34, 30, 44, 28, 47, 34, 43, 16, 39, 34, 5, 5, 37, 17, 24, 32, 24, 13, 41, 19, 39, 27, 11, 47, 3, 10, 19, 31, 27, 9, 15, 23, 8, 32, 23, 38, 39, 21, 45, 4, 38, 12, 10, 41, 15, 22, 12, 43, 34, 42, 5, 12, 39, 19, 42, 27, 24, 8, 9, 33, 12, 5, 45, 38, 2, 11, 2, 2, 10, 21, 14, 10, 44, 24, 28, 10, 10, 15, 19, 31, 16, 34, 21, 24, 39, 15, 48, 24, 23, 24, 37, 41, 3, 10, 19, 10, 10, 29, 33, 2, 44, 47, 39, 47, 37, 24, 20, 11, 23, 16, 24, 12, 24, 10, 24, 34, 24, 17, 2, 24, 24, 27, 24, 10, 12, 29, 44, 24, 38, 2, 27, 2, 27, 2, 13, 37, 17, 8, 24, 47, 26, 37, 34, 11, 15, 24, 21, 20, 47, 34, 28, 6, 24, 23, 3, 25, 37, 21, 34, 15, 37, 10, 34, 47, 34, 38, 34, 24, 33, 36, 24, 34, 15, 24, 40, 39, 31, 10, 21, 34, 5, 18, 10, 13, 29, 34, 7, 27, 28, 10, 39, 5, 5, 45, 2, 13, 14, 5, 17, 10, 21, 8, 43, 1, 34, 32, 39, 47, 11, 10, 8, 16, 20, 27, 2, 10, 33, 24, 37, 29, 24, 35, 47, 47, 2, 10, 44, 24, 39, 23, 2, 7, 2, 30, 3, 45, 21, 16, 20, 1, 2, 16, 20, 34, 24, 34, 29, 39, 3, 31, 11, 15, 10, 41, 37, 16, 24, 45, 28, 45, 2, 47, 24, 10, 34, 43, 48, 38, 14, 24, 16, 28, 49, 2, 24, 44, 34, 46, 26, 0, 8, 42, 27, 16, 24, 10, 7, 33, 12, 21, 45, 3, 4, 7, 5, 48, 24, 20, 5, 39, 38, 19, 34, 34, 39, 38, 21, 26, 20, 39, 16, 35, 47, 31, 9, 1, 7, 34, 47, 22, 42, 3, 16, 3, 34, 38, 17, 23, 17, 31, 8, 9, 8, 4, 42, 2, 39, 8, 28, 34, 3, 21, 24, 42, 39, 21, 25, 38, 13, 24, 44, 42, 7, 2, 2, 38, 24, 24, 34, 45, 34, 11, 38, 17, 43, 7, 7, 10, 7, 13, 11, 3, 24, 34, 18, 12, 10, 24, 23, 34, 34, 8, 29, 33, 45, 24, 2, 21, 24, 7, 34, 24, 21, 13, 8, 19, 35, 2, 24, 49, 39, 38, 13, 24, 29, 29, 13, 32, 2, 45, 39, 11, 8, 9, 13, 30, 13, 39, 15, 31, 10, 29, 17, 10, 32, 24, 39, 34, 45, 17, 20, 13, 45, 16, 38, 24, 8, 24, 39, 15, 20, 2, 19, 15, 35, 10, 32, 21, 26, 13, 24, 2, 24, 31, 24, 34, 2, 45, 3, 30, 4, 23, 15, 19, 1, 42, 27, 34, 6, 33, 32, 28, 21, 9, 34, 38, 38, 24, 10, 48, 47, 8, 17, 15, 2, 34, 11, 47, 21, 17, 34, 7, 15, 21, 10, 24, 7, 13, 44, 17, 37, 29, 39, 18, 10, 26, 43, 24, 49, 21, 37, 0, 41, 32, 13, 27, 40, 2, 13, 23, 7, 31, 39, 24, 31, 20, 34, 13, 39, 39, 10, 20, 23, 12, 17, 7, 21, 3, 15, 48, 37, 3, 31, 48, 8, 27, 39, 5, 41, 39, 10, 21, 45, 39, 24, 33, 34, 8, 39, 26, 5, 33, 5, 24, 18, 24, 21, 3, 26, 39, 26, 24, 10, 24, 24, 34, 24, 13, 8, 28, 8, 24, 20, 15, 3, 2, 49, 42, 26, 38, 3, 13, 41, 7, 31, 47, 34, 34, 24, 29, 22, 34, 13, 10, 34, 38, 7, 34, 43, 3, 24, 47, 8, 47, 8, 24, 8, 24, 10, 8, 24, 34, 24, 38, 9, 24, 5, 9, 30, 15, 47, 1, 19, 11, 24, 45, 10, 8, 7, 34, 25, 42, 10, 24, 33, 2, 2, 3, 34, 5, 39, 2, 34, 7, 38, 33, 39, 28, 33, 23, 34, 3, 31, 45, 24, 5, 46, 23, 27, 30, 24, 11, 24, 24, 7, 24, 41, 12, 41, 11, 7, 8, 34, 24, 2, 48, 11, 47, 23, 13, 41, 10, 6, 35, 19, 46, 34, 24, 24, 6, 24, 24, 1, 47, 19, 27, 2, 13, 31, 37, 34, 23, 1, 26, 26, 44, 33, 20, 48, 13, 20, 8, 10, 32, 39, 17, 39, 34, 34, 10, 23, 25, 33, 24, 2, 10, 25, 39, 13, 48, 42, 7, 23, 23, 13, 23, 17, 48, 13, 24, 45, 8, 24, 24, 24, 49, 26, 24, 10, 11, 13, 45, 11, 34, 2, 13, 24, 8, 16, 43, 35, 23, 24, 5, 43, 45, 45, 24, 45, 38, 20, 45, 5, 12, 24, 20, 10, 34, 5, 17, 24, 15, 5, 34, 10, 20, 5, 45, 39, 23, 17, 37, 5, 10, 34, 42, 34, 7, 35, 24, 3, 34, 34, 47, 10, 42, 43, 29, 24, 21, 48, 15, 13, 20, 24, 5, 47, 42, 38, 45, 13, 8, 37, 24, 24, 10, 26, 15, 7, 39, 16, 28, 34, 24, 49, 24, 11, 49, 20, 30, 3, 18, 34, 5, 37, 49, 48, 41, 2, 7, 39, 27, 15, 29, 49, 8, 11, 3, 11, 20, 12, 1, 8, 19, 41, 34, 21, 31, 25, 7, 17, 45, 38, 34, 30, 35, 45, 16, 24, 10, 47, 24, 24, 19, 34, 45, 24, 24, 27, 34, 28, 24, 10, 15, 10, 34, 30, 13, 12, 8, 21, 10, 34, 8, 11, 10, 5, 28, 38, 47, 24, 6, 34, 7, 24, 27, 48, 15, 5, 24, 24, 26, 8, 37, 12, 34, 16, 12, 5, 47, 8, 41, 27, 28, 39, 33, 24, 30, 10, 48, 1, 10, 10, 37, 8, 34, 27, 15, 13, 16, 34, 22, 12, 23, 45, 34, 34, 47, 34, 19, 30, 15, 5, 34, 32, 10, 10, 10, 24, 40, 26, 10, 16, 24, 6, 44, 10, 43, 40, 38, 3, 24, 39, 46, 23, 24, 39, 24, 4, 34, 34, 11, 47, 24, 24, 13, 7, 19, 47, 34, 2, 42, 39, 23, 10, 34, 10, 24, 38, 27, 24, 37, 12, 7, 39, 1, 24, 3, 41, 33, 47, 34, 5, 12, 16, 15, 46, 38, 47, 48, 42, 37, 38, 39, 7, 25, 10, 8, 15, 38, 1, 17, 44, 33, 37, 34, 37, 27, 15, 30, 10, 15, 7, 47, 48, 15, 7, 11, 3, 48, 8, 47, 41, 0, 34, 24, 38, 2, 3, 13, 36, 1, 28, 24, 23, 47, 31, 34, 33, 2, 24, 25, 38, 42, 9, 39, 26, 38, 11, 30, 3, 48, 24, 19, 12, 39, 18, 28, 27, 33, 19, 24, 37, 1, 13, 22, 21, 26, 47, 39, 10, 5, 1, 49, 5, 16, 13, 24, 15, 24, 10, 26, 44, 23, 8, 34, 34, 31, 24, 12, 39, 8, 13, 11, 38, 26, 47, 21, 34, 47, 34, 10, 47, 19, 47, 29, 49, 1, 24, 5, 11, 10, 48, 13, 17, 41, 27, 47, 38, 20, 39, 19, 8, 45, 38, 2, 39, 34, 47, 19, 5, 24, 11, 12, 27, 24, 26, 13, 12, 45, 12, 11, 17, 47, 39, 6, 24, 26, 39, 39, 26, 21, 11, 24, 49, 41, 26, 29, 2, 41, 13, 2, 34, 4, 30, 34, 10, 34, 24, 39, 15, 24, 41, 47, 9, 14, 10, 38, 9, 10, 24, 27, 29, 24, 25, 48, 41, 21, 47, 44, 23, 42, 10, 34, 24, 3, 38, 17, 5, 31, 13, 24, 8, 32, 15, 47, 31, 8, 20, 48, 19, 9, 24, 32, 7, 13, 35, 6, 33, 31, 34, 34, 13, 25, 24, 31, 38, 9, 15, 19, 26, 5, 12, 23, 39, 39, 27, 26, 15, 26, 23, 45, 19, 15, 15, 38, 12, 24, 25, 24, 49, 5, 45, 24, 24, 34, 3, 24, 15, 3, 12, 39, 4, 26, 29, 39, 34, 16, 37, 24, 46, 38, 5, 2, 34, 24, 40, 24, 3, 10, 34, 34, 28, 23, 7, 45, 1, 23, 19, 10, 34, 34, 42, 33, 10, 34, 2, 17, 47, 10, 17, 44, 31, 39, 34, 23, 38, 24, 45, 33, 7, 26, 20, 26, 24, 2, 24, 35, 3, 26, 8, 10, 24, 8, 23, 24, 47, 37, 26, 34, 8, 24, 2, 45, 2, 34, 39, 2, 10, 31, 35, 24, 42, 15, 2, 5, 47, 24, 7, 11, 29, 21, 45, 34, 8, 10, 23, 31, 26, 10, 15, 42, 24, 24, 42, 24, 43, 36, 32, 13, 13, 34, 42, 30, 34, 34, 24, 26, 17, 13, 10, 43, 48, 32, 15, 38, 45, 34, 39, 11, 15, 15, 34, 34, 47, 47, 48, 34, 44, 15, 26, 31, 0, 5, 7, 27, 34, 39, 26, 27, 36, 49, 33, 45, 23, 34, 47, 2, 24, 25, 15, 7, 8, 12, 15, 47, 47, 38, 3, 49, 34, 11, 39, 47, 19, 34, 8, 2, 34, 39, 47, 35, 29, 20, 38, 24, 5, 34, 41, 24, 48, 15, 23, 45, 14, 19, 9, 5, 34, 15, 35, 10, 20, 24, 16, 2, 47, 34, 31, 39, 34, 34, 40, 15, 44, 33, 8, 26, 7, 34, 15, 3, 24, 24, 24, 42, 24, 26, 24, 34, 47, 48, 32, 38, 5, 34, 35, 34, 34, 47, 47, 10, 24, 32, 20, 47, 34, 19, 15, 45, 9, 27, 21, 30, 30, 5, 39, 10, 7, 28, 2, 3, 21, 15, 16, 31, 31, 2, 38, 39, 37, 3, 42, 10, 49, 24, 5, 10, 17, 39, 7, 14, 8, 8, 3, 31, 10, 7, 26, 35, 34, 8, 2, 27, 24, 7, 24, 20, 37, 35, 34, 7, 19, 34, 2, 5, 43, 19, 24, 11, 17, 24, 39, 10, 19, 13, 42, 27, 49, 43, 34, 49, 32, 7, 26, 31, 32, 28, 2, 21, 24, 24, 15, 31, 1, 23, 8, 9, 5, 0, 18, 45, 24, 21, 34, 8, 8, 15, 33, 34, 27, 35, 28, 29, 9, 19, 10, 24, 34, 9, 38, 2, 30, 39, 24, 24, 31, 49, 31, 39, 39, 33, 39, 38, 9, 10, 48, 24, 24, 2, 42, 34, 8, 3, 34, 21, 24, 39, 39, 39, 39, 35, 10, 17, 48, 5, 5, 3, 26, 29, 8, 7, 44, 27, 5, 48, 24, 17, 43, 47, 32, 26, 31, 41, 34, 44, 8, 10, 31, 3, 42, 10, 2, 7, 44, 19, 34, 12, 33, 21, 16, 26, 24, 38, 23, 22, 11, 24, 34, 24, 26, 46, 34, 38, 10, 34, 42, 23, 24, 39, 34, 45, 31, 34, 31, 35, 2, 11, 24, 18, 7, 26, 39, 34, 25, 15, 19, 34, 10, 34, 39, 12, 45, 15, 2, 13, 8, 26, 15, 8, 43, 48, 34, 31, 15, 20, 19, 45, 20, 32, 7, 10, 38, 12, 24, 31, 5, 5, 48, 38, 34, 8, 47, 9, 10, 24, 34, 3, 28, 15, 2, 26, 24, 10, 25, 10, 11, 34, 44, 24, 24, 12, 41, 26, 49, 3, 8, 28, 42, 2, 23, 31, 38, 32, 34, 5, 34, 29, 16, 40, 39, 34, 1, 27, 3, 17, 15, 35, 42, 7, 34, 49, 40, 24, 1, 8, 10, 39, 12, 4, 39, 33, 20, 8, 42, 8, 33, 24, 34, 35, 10, 15, 21, 39, 10, 35, 19, 9, 19, 2, 8, 25, 24, 25, 23, 24, 5, 8, 12, 23, 28, 2, 19, 24, 10, 45, 47, 16, 13, 47, 30, 24, 2, 37, 15, 39, 7, 20, 42, 11, 48, 1, 10, 34, 24, 42, 9, 30, 7, 14, 32, 43, 2, 8, 1, 1, 25, 39, 1, 24, 33, 26, 16, 24, 15, 38, 34, 24, 47, 44, 2, 10, 14, 26, 2, 1, 24, 15, 24, 33, 23, 49, 11, 16, 34, 37, 27, 36, 24, 38, 48, 13, 23, 6, 31, 15, 19, 32, 1, 2, 47, 21, 25, 24, 17, 34, 27, 8, 7, 16, 39, 32, 8, 17, 40, 5, 24, 27, 17, 48, 34, 24, 2, 47, 45, 11, 40, 12, 39, 10, 18, 38, 34, 49, 23, 40, 10, 8, 23, 10, 48, 45, 39, 2, 11, 34, 26, 45, 3, 35, 10, 43, 10, 39, 24, 11, 24, 28, 5, 16, 11, 11, 34, 13, 8, 24, 48, 9, 16, 11, 39, 8, 38, 28, 34, 40, 32, 8, 49, 28, 33, 24, 24, 10, 34, 10, 23, 4, 38, 6, 5, 26, 39, 42, 15, 39, 34, 38, 33, 13, 5, 10, 35, 2, 13, 3, 33, 39, 3, 25, 8, 34, 37, 20, 8, 13, 8, 22, 10, 18, 26, 10, 24, 30, 16, 27, 47, 5, 24, 24, 24, 27, 5, 49, 15, 38, 26, 24, 33, 47, 8, 28, 39, 12, 34, 38, 34, 10, 8, 8, 2, 47, 17, 34, 15, 13, 24, 28, 19, 37, 17, 2, 26, 7, 24, 32, 22, 7, 14, 16, 15, 10, 12, 15, 34, 39, 34, 7, 24, 13, 11, 5, 8, 16, 24, 13, 13, 24, 16, 2, 30, 24, 43, 8, 34, 39, 16, 24, 35, 16, 24, 31, 10, 9, 24, 10, 29, 13, 34, 24, 24, 10, 24, 17, 5, 47, 13, 41, 47, 8, 30, 24, 19, 34, 23, 39, 11, 13, 11, 12, 5, 34, 37, 12, 15, 23, 13, 45, 24, 26, 34, 24, 39, 24, 34, 27, 26, 26, 45, 32, 5, 34, 26, 19, 31, 42, 45, 27, 41, 30, 24, 23, 34, 24, 46, 10, 24, 27, 7, 11, 5, 2, 26, 35, 22, 17, 10, 34, 24, 38, 45, 5, 11, 46, 13, 2, 38, 39, 24, 10, 11, 34, 6, 2, 35, 5, 17, 29, 37, 13, 2, 16, 24, 2, 33, 11, 10, 27, 15, 24, 31, 10, 10, 3, 10, 42, 8, 10, 15, 24, 3, 33, 5, 9, 11, 39, 17, 28, 24, 45, 24, 24, 34, 24, 8, 34, 23, 8, 12, 38, 28, 25, 20, 34, 34, 37, 29, 47, 8, 24, 12, 4, 11, 24, 34, 13, 8, 29, 1, 4, 33, 39, 38, 34, 23, 8, 24, 39, 8, 39, 20, 33, 39, 13, 47, 28, 41, 16, 25, 42, 33, 33, 33, 2, 34, 24, 37, 8, 19, 24, 24, 19, 11, 7, 15, 13, 39, 28, 9, 20, 47, 46, 11, 3, 42, 23, 24, 9, 6, 24, 34, 34, 32, 34, 47, 34, 45, 23, 48, 27, 20, 37, 47, 25, 10, 15, 44, 34, 5, 46, 48, 23, 25, 2, 3, 26, 2, 15, 8, 10, 24, 13, 3, 38, 47, 34, 12, 24, 34, 10, 34, 7, 38, 35, 8, 24, 38, 41, 24, 29, 17, 28, 27, 38, 32, 38, 9, 47, 29, 3, 15, 2, 21, 23, 24, 39, 41, 24, 10, 16, 10, 23, 22, 21, 15, 15, 15, 1, 24, 24, 47, 19, 34, 9, 13, 12, 14, 45, 19, 24, 34, 24, 7, 30, 34, 11, 43, 15, 15, 34, 2, 31, 24, 31, 28, 12, 25, 24, 41, 1, 11, 38, 2, 34, 5, 15, 34, 10, 47, 34, 2, 20, 10, 41, 10, 34, 24, 15, 34, 34, 17, 26, 24, 15, 10, 34, 7, 24, 27, 2, 31, 6, 28, 34, 24, 10, 10, 10, 12, 21, 11, 47, 49, 38, 34, 34, 5, 24, 24, 33, 10, 39, 42, 35, 15, 5, 47, 7, 39, 33, 5, 2, 1, 45, 42, 24, 39, 8, 38, 48, 10, 2, 34, 16, 24, 12, 24, 34, 26, 3, 17, 30, 23, 12, 28, 2, 38, 13, 10, 15, 2, 24, 45, 27, 6, 1, 26, 45, 29, 34, 12, 24, 34, 42, 24, 33, 47, 34, 34, 24, 47, 38, 24, 35, 24, 24, 5, 24, 48, 19, 24, 42, 31, 26, 16, 5, 4, 6, 6, 10, 5, 24, 38, 17, 10, 45, 23, 34, 18, 40, 2, 42, 15, 31, 10, 24, 20, 26, 26, 9, 34, 5, 3, 33, 10, 24, 8, 10, 34, 7, 25, 20, 28, 16, 48, 8, 47, 11, 34, 28, 39, 12, 39, 28, 33, 34, 3, 24, 33, 38, 9, 21, 24, 34, 20, 24, 47, 47, 31, 44, 24, 34, 18, 33, 3, 2, 2, 17, 17, 34, 24, 45, 24, 38, 45, 24, 38, 17, 38, 17, 5, 38, 39, 7, 47, 5, 8, 31, 27, 34, 26, 46, 34, 16, 2, 10, 9, 47, 43, 23, 2, 32, 48, 11, 3, 5, 2, 38, 36, 39, 2, 15, 41, 9, 13, 10, 9, 3, 34, 24, 24, 38, 38, 20, 39, 29, 2, 13, 6, 34, 31, 6, 25, 19, 32, 2, 25, 45, 48, 2, 5, 2, 24, 39, 26, 34, 2, 16, 9, 3, 24, 12, 34, 7, 17, 39, 24, 5, 1, 34, 24, 29, 34, 24, 23, 47, 10, 29, 45, 13, 5, 6, 47, 39, 5, 12, 12, 42, 24, 48, 4, 35, 10, 37, 7, 38, 24, 1, 38, 24, 15, 23, 36, 10, 39, 5, 47, 7, 24, 24, 15, 34, 34, 2, 10, 24, 1, 10, 10, 8, 18, 10, 10, 48, 15, 38, 19, 3, 10, 15, 45, 19, 48, 34, 24, 37, 38, 10, 11, 34, 24, 29, 10, 44, 1, 35, 27, 47, 10, 21, 39, 12, 15, 24, 43, 43, 13, 4, 2, 21, 24, 47, 39, 34, 32, 27, 30, 24, 0, 19, 39, 3, 24, 48, 7, 16, 24, 15, 28, 6, 21, 24, 13, 34, 34, 42, 28, 24, 34, 23, 10, 2, 42, 21, 18, 38, 47, 2, 9, 34, 9, 5, 27, 24, 24, 34, 3, 24, 29, 3, 18, 43, 12, 7, 17, 24, 15, 34, 34, 11, 22, 29, 34, 35, 5, 13, 19, 20, 39, 42, 30, 34, 25, 4, 10, 45, 24, 12, 13, 5, 2, 38, 24, 31, 39, 5, 47, 28, 24, 10, 34, 26, 7, 24, 24, 12, 28, 11, 39, 10, 39, 24, 5, 17, 29, 30, 23, 3, 13, 5, 24, 7, 8, 12, 41, 15, 39, 2, 44, 24, 47, 27, 8, 3, 27, 31, 7, 2, 24, 5, 15, 24, 34, 8, 34, 19, 35, 41, 32, 34, 32, 24, 24, 10, 24, 8, 45, 39, 15, 0, 48, 39, 11, 41, 16, 17, 44, 39, 34, 24, 47, 39, 8, 6, 3, 23, 11, 26, 2, 38, 39, 16, 28, 34, 10, 28, 2, 33, 47, 3, 29, 5, 11, 48, 2, 13, 46, 34, 32, 47, 13, 13, 36, 17, 8, 41, 24, 32, 2, 3, 17, 39, 39, 37, 19, 21, 39, 2, 8, 7, 3, 20, 27, 47, 24, 4, 16, 33, 48, 34, 9, 34, 1, 10, 48, 42, 29, 39, 32, 24, 6, 47, 3, 2, 0, 6, 39, 11, 41, 33, 29, 39, 24, 35, 1, 9, 26, 11, 24, 34, 39, 24, 13, 16, 21, 26, 25, 41, 28, 45, 14, 24, 11, 45, 21, 26, 3, 24, 37, 10, 5, 39, 13, 3, 31, 33, 5, 42, 44, 25, 10, 9, 10, 10, 21, 1, 29, 0, 27, 10, 37, 49, 13, 47, 15, 7, 31, 45, 24, 28, 20, 8, 34, 25, 12, 15, 41, 42, 23, 33, 24, 20, 17, 39, 17, 34, 10, 45, 30, 15, 24, 7, 5, 47, 48, 34, 7, 34, 34, 48, 31, 12, 34, 16, 8, 33, 11, 20, 10, 40, 13, 2, 16, 34, 35, 24, 5, 29, 47, 4, 12, 47, 47, 5, 12, 34, 45, 34, 39, 10, 34, 42, 49, 24, 10, 22, 17, 13, 34, 45, 2, 47, 15, 39, 24, 15, 42, 23, 10, 20, 47, 9, 42, 39, 38, 24, 49, 41, 24, 27, 47, 13, 1, 0, 12, 7, 7, 27, 19, 10, 35, 2, 13, 38, 3, 14, 12, 27, 47, 34, 9, 34, 39, 24, 8, 24, 10, 22, 11, 30, 39, 7, 10, 28, 6, 7, 10, 43, 39, 3, 24, 48, 34, 48, 24, 10, 8, 24, 10, 47, 24, 17, 47, 5, 34, 11, 25, 44, 26, 8, 34, 42, 24, 11, 2, 32, 6, 2, 24, 8, 39, 32, 48, 10, 24, 21, 8, 42, 32, 39, 29, 38, 31, 48, 29, 16, 25, 24, 11, 22, 25, 35, 16, 7, 34, 8, 25, 24, 7, 8, 10, 38, 8, 16, 8, 34, 41, 39, 47, 26, 15, 34, 34, 6, 24, 49, 23, 28, 26, 2, 29, 32, 10, 17, 12, 25, 3, 27, 10, 8, 6, 10, 3, 10, 25, 24, 10, 34, 48, 42, 35, 3, 16, 19, 0, 27, 32, 38, 25, 9, 10, 39, 27, 24, 24, 20, 12, 9, 39, 19, 37, 26, 24, 28, 29, 30, 8, 24, 16, 45, 4, 4, 6, 34, 2, 24, 2, 2, 24, 24, 10, 18, 8, 26, 47, 42, 13, 19, 37, 35, 39, 5, 39, 10, 19, 16, 37, 11, 30, 39, 21, 16, 5, 0, 15, 3, 2, 31, 13, 10, 4, 31, 47, 24, 1, 32, 33, 48, 36, 23, 24, 16, 5, 40, 19, 34, 23, 10, 24, 5, 2, 15, 47, 24, 13, 24, 28, 46, 35, 11, 47, 46, 43, 10, 15, 7, 24, 39, 34, 29, 47, 27, 24, 28, 35, 32, 24, 15, 49, 12, 34, 24, 42, 2, 11, 13, 2, 34, 13, 18, 34, 21, 13, 36, 19, 26, 38, 34, 24, 28, 47, 5, 47, 45, 37, 15, 27, 10, 44, 43, 11, 26, 47, 39, 0, 38, 2, 15, 35, 45, 29, 10, 8, 23, 13, 47, 16, 30, 28, 36, 5, 44, 24, 34, 3, 24, 18, 26, 27, 23, 8, 3, 39, 10, 10, 40, 35, 45, 34, 20, 48, 3, 24, 13, 38, 19, 10, 5, 13, 11, 31, 32, 13, 3, 10, 37, 7, 35, 16, 10, 35, 10, 13, 27, 9, 9, 0, 23, 7, 11, 25, 16, 13, 15, 15, 8, 24, 13, 34, 20, 24, 20, 24, 21, 42, 28, 31, 15, 13, 24, 38, 21, 12, 27, 12, 25, 11, 12, 39, 10, 3, 24, 31, 12, 1, 28, 15, 35, 34, 14, 38, 24, 12, 11, 24, 13, 33, 24, 34, 24, 0, 48, 39, 9, 49, 16, 24, 12, 34, 38, 24, 10, 10, 40, 34, 8, 34, 34, 24, 44, 7, 19, 29, 23, 24, 47, 39, 26, 34, 42, 10, 21, 12, 26, 29, 15, 2, 34, 34, 24, 15, 34, 39, 46, 2, 34, 26, 32, 2, 5, 27, 10, 7, 46, 42, 15, 29, 7, 27, 8, 9, 38, 34, 1, 38, 44, 49, 16, 47, 12, 33, 39, 41, 7, 24, 45, 35, 10, 17, 39, 34, 48, 7, 38, 28, 10, 29, 39, 21, 5]\n"
     ]
    }
   ],
   "source": [
    "# Créer un dictionnaire qui associe chaque valeur catégorique à un entier unique\n",
    "value_to_int = {value: i for i, value in enumerate(set(y))}\n",
    "\n",
    "# Afficher le dictionnaire\n",
    "print(value_to_int)\n",
    "\n",
    "# Encoder les données catégorielles à l'aide du dictionnaire\n",
    "Y_encoded = [value_to_int[y] for y in y]\n",
    "\n",
    "# Afficher les données encodées\n",
    "print(Y_encoded)"
   ]
  },
  {
   "cell_type": "code",
   "execution_count": 11,
   "id": "91c86c59",
   "metadata": {},
   "outputs": [
    {
     "data": {
      "text/plain": [
       "numpy.ndarray"
      ]
     },
     "execution_count": 11,
     "metadata": {},
     "output_type": "execute_result"
    }
   ],
   "source": [
    "# Convertir les listes en tableaux NumPy\n",
    "X = np.array(X)\n",
    "Y= np.array(Y_encoded)\n",
    "\n",
    "#Conversion de chaque image en tableau de 1-dimension\n",
    "X = X.reshape(len(X),-1)\n",
    "\n",
    "# normalisation des données de 0-1 \n",
    "X = X.astype(float) / 255.\n"
   ]
  },
  {
   "cell_type": "markdown",
   "id": "328a9b29",
   "metadata": {},
   "source": [
    "## Entrainement du modèle K-means"
   ]
  },
  {
   "cell_type": "markdown",
   "id": "d37a67c3",
   "metadata": {},
   "source": [
    "Étant donné que la taille de l'ensemble de données MNIST est assez importante, nous utiliserons l'implémentation en mini-batch du classification k-means (MiniBatchKMeans) fourni par scikit-learn. Cela réduira considérablement le temps nécessaire pour adapter l'algorithme aux données.\n"
   ]
  },
  {
   "cell_type": "code",
   "execution_count": 13,
   "id": "e7aa61ca",
   "metadata": {},
   "outputs": [
    {
     "name": "stdout",
     "output_type": "stream",
     "text": [
      "50\n"
     ]
    },
    {
     "data": {
      "text/html": [
       "<style>#sk-container-id-1 {color: black;background-color: white;}#sk-container-id-1 pre{padding: 0;}#sk-container-id-1 div.sk-toggleable {background-color: white;}#sk-container-id-1 label.sk-toggleable__label {cursor: pointer;display: block;width: 100%;margin-bottom: 0;padding: 0.3em;box-sizing: border-box;text-align: center;}#sk-container-id-1 label.sk-toggleable__label-arrow:before {content: \"▸\";float: left;margin-right: 0.25em;color: #696969;}#sk-container-id-1 label.sk-toggleable__label-arrow:hover:before {color: black;}#sk-container-id-1 div.sk-estimator:hover label.sk-toggleable__label-arrow:before {color: black;}#sk-container-id-1 div.sk-toggleable__content {max-height: 0;max-width: 0;overflow: hidden;text-align: left;background-color: #f0f8ff;}#sk-container-id-1 div.sk-toggleable__content pre {margin: 0.2em;color: black;border-radius: 0.25em;background-color: #f0f8ff;}#sk-container-id-1 input.sk-toggleable__control:checked~div.sk-toggleable__content {max-height: 200px;max-width: 100%;overflow: auto;}#sk-container-id-1 input.sk-toggleable__control:checked~label.sk-toggleable__label-arrow:before {content: \"▾\";}#sk-container-id-1 div.sk-estimator input.sk-toggleable__control:checked~label.sk-toggleable__label {background-color: #d4ebff;}#sk-container-id-1 div.sk-label input.sk-toggleable__control:checked~label.sk-toggleable__label {background-color: #d4ebff;}#sk-container-id-1 input.sk-hidden--visually {border: 0;clip: rect(1px 1px 1px 1px);clip: rect(1px, 1px, 1px, 1px);height: 1px;margin: -1px;overflow: hidden;padding: 0;position: absolute;width: 1px;}#sk-container-id-1 div.sk-estimator {font-family: monospace;background-color: #f0f8ff;border: 1px dotted black;border-radius: 0.25em;box-sizing: border-box;margin-bottom: 0.5em;}#sk-container-id-1 div.sk-estimator:hover {background-color: #d4ebff;}#sk-container-id-1 div.sk-parallel-item::after {content: \"\";width: 100%;border-bottom: 1px solid gray;flex-grow: 1;}#sk-container-id-1 div.sk-label:hover label.sk-toggleable__label {background-color: #d4ebff;}#sk-container-id-1 div.sk-serial::before {content: \"\";position: absolute;border-left: 1px solid gray;box-sizing: border-box;top: 0;bottom: 0;left: 50%;z-index: 0;}#sk-container-id-1 div.sk-serial {display: flex;flex-direction: column;align-items: center;background-color: white;padding-right: 0.2em;padding-left: 0.2em;position: relative;}#sk-container-id-1 div.sk-item {position: relative;z-index: 1;}#sk-container-id-1 div.sk-parallel {display: flex;align-items: stretch;justify-content: center;background-color: white;position: relative;}#sk-container-id-1 div.sk-item::before, #sk-container-id-1 div.sk-parallel-item::before {content: \"\";position: absolute;border-left: 1px solid gray;box-sizing: border-box;top: 0;bottom: 0;left: 50%;z-index: -1;}#sk-container-id-1 div.sk-parallel-item {display: flex;flex-direction: column;z-index: 1;position: relative;background-color: white;}#sk-container-id-1 div.sk-parallel-item:first-child::after {align-self: flex-end;width: 50%;}#sk-container-id-1 div.sk-parallel-item:last-child::after {align-self: flex-start;width: 50%;}#sk-container-id-1 div.sk-parallel-item:only-child::after {width: 0;}#sk-container-id-1 div.sk-dashed-wrapped {border: 1px dashed gray;margin: 0 0.4em 0.5em 0.4em;box-sizing: border-box;padding-bottom: 0.4em;background-color: white;}#sk-container-id-1 div.sk-label label {font-family: monospace;font-weight: bold;display: inline-block;line-height: 1.2em;}#sk-container-id-1 div.sk-label-container {text-align: center;}#sk-container-id-1 div.sk-container {/* jupyter's `normalize.less` sets `[hidden] { display: none; }` but bootstrap.min.css set `[hidden] { display: none !important; }` so we also need the `!important` here to be able to override the default hidden behavior on the sphinx rendered scikit-learn.org. See: https://github.com/scikit-learn/scikit-learn/issues/21755 */display: inline-block !important;position: relative;}#sk-container-id-1 div.sk-text-repr-fallback {display: none;}</style><div id=\"sk-container-id-1\" class=\"sk-top-container\"><div class=\"sk-text-repr-fallback\"><pre>MiniBatchKMeans(n_clusters=50)</pre><b>In a Jupyter environment, please rerun this cell to show the HTML representation or trust the notebook. <br />On GitHub, the HTML representation is unable to render, please try loading this page with nbviewer.org.</b></div><div class=\"sk-container\" hidden><div class=\"sk-item\"><div class=\"sk-estimator sk-toggleable\"><input class=\"sk-toggleable__control sk-hidden--visually\" id=\"sk-estimator-id-1\" type=\"checkbox\" checked><label for=\"sk-estimator-id-1\" class=\"sk-toggleable__label sk-toggleable__label-arrow\">MiniBatchKMeans</label><div class=\"sk-toggleable__content\"><pre>MiniBatchKMeans(n_clusters=50)</pre></div></div></div></div></div>"
      ],
      "text/plain": [
       "MiniBatchKMeans(n_clusters=50)"
      ]
     },
     "execution_count": 13,
     "metadata": {},
     "output_type": "execute_result"
    }
   ],
   "source": [
    "from sklearn.cluster import MiniBatchKMeans\n",
    "\n",
    "n_digits = len(np.unique(Y))\n",
    "print(n_digits)\n",
    "\n",
    "# Initialisation du modèle \n",
    "kmeans = MiniBatchKMeans(n_clusters = n_digits,batch_size = 1024)\n",
    "\n",
    "# Ajuster le modèle aux données d'entrainement\n",
    "kmeans.fit(X)"
   ]
  },
  {
   "cell_type": "code",
   "execution_count": 14,
   "id": "a1d8c95f",
   "metadata": {},
   "outputs": [
    {
     "name": "stdout",
     "output_type": "stream",
     "text": [
      "[ 8  4 31 ... 40 37 16]\n"
     ]
    },
    {
     "data": {
      "text/plain": [
       "7143"
      ]
     },
     "execution_count": 14,
     "metadata": {},
     "output_type": "execute_result"
    }
   ],
   "source": [
    "#Etiquette de chaque entrée généré par k-means\n",
    "print(kmeans.labels_)\n",
    "len(kmeans.labels_)"
   ]
  },
  {
   "cell_type": "markdown",
   "id": "e928c0d5",
   "metadata": {},
   "source": [
    "## Affectation de l'étiquette réelle\n"
   ]
  },
  {
   "cell_type": "markdown",
   "id": "dad23515",
   "metadata": {},
   "source": [
    "Le clustering K-means est une méthode d'apprentissage automatique non supervisée. par conséquent, les étiquettes attribuées par notre algorithme KMeans font référence au identifiant du cluster auquel chaque tableau a été attribué, et non à l'entier cible réel."
   ]
  },
  {
   "cell_type": "code",
   "execution_count": 15,
   "id": "fc1c09f5",
   "metadata": {},
   "outputs": [],
   "source": [
    "def infer_cluster_labels(kmeans, actual_labels):\n",
    "    \"\"\"\n",
    "    Associe l'étiquette la plus probable à chaque cluster dans le modèle KMeans\n",
    "    renvoie : dictionnaire des clusters attribués à chaque étiquette\n",
    "    \"\"\"\n",
    "    # variable contient les étiquettes déduit\n",
    "    inferred_labels = {}\n",
    "\n",
    "    for i in range(kmeans.n_clusters):\n",
    "\n",
    "        # iterer sur chaque cluster et trouver les indices de chaque cluster \n",
    "        # l'objectif c'est grouper les elements de chaque cluster \n",
    "        labels = []\n",
    "        index = np.where(kmeans.labels_ == i)\n",
    "\n",
    "        # associer l'étiquettes réelles pour chaque point du cluster\n",
    "        labels.append(actual_labels[index])\n",
    "\n",
    "        # déterminer l'étiquette la plus fréquente\n",
    "        if len(labels[0]) == 1:\n",
    "            counts = np.bincount(labels[0])\n",
    "        else:\n",
    "            counts = np.bincount(np.squeeze(labels))\n",
    "\n",
    "        # affecter le cluster à une valeur dans le dictionnaire des étiquettes déduit\n",
    "        if np.argmax(counts) in inferred_labels:\n",
    "            # ajouter le nouveau numéro au tableau existant à cet emplacement\n",
    "            inferred_labels[np.argmax(counts)].append(i)\n",
    "        else:\n",
    "            # créer un nouveau tableau dans cet emplacement\n",
    "            inferred_labels[np.argmax(counts)] = [i]\n",
    "        \n",
    "    return inferred_labels  \n",
    "\n",
    "def infer_data_labels(X_labels, cluster_labels):\n",
    "    \"\"\"\n",
    "    Détermine l'étiquette de chaque tableau , en fonction du cluster auquel elle a été attribuée.\n",
    "    renvoie : étiquettes prédites pour chaque tableau\n",
    "    \"\"\"\n",
    "    \n",
    "    # tableau vide remplie par des zero\n",
    "    predicted_labels = np.zeros(len(X_labels)).astype(np.uint8)\n",
    "    \n",
    "    for i, cluster in enumerate(X_labels):\n",
    "        for key, value in cluster_labels.items():\n",
    "            if cluster in value:\n",
    "                predicted_labels[i] = key\n",
    "                \n",
    "    return predicted_labels\n"
   ]
  },
  {
   "cell_type": "markdown",
   "id": "7231c391",
   "metadata": {},
   "source": [
    "## Evaluation du modèle"
   ]
  },
  {
   "cell_type": "code",
   "execution_count": 16,
   "id": "8e961871",
   "metadata": {},
   "outputs": [],
   "source": [
    "from sklearn.metrics import homogeneity_score\n",
    "\n",
    "def calc_metrics(estimator, data, labels):\n",
    "    print('Number of Clusters: {}'.format(estimator.n_clusters))\n",
    "    # Inertie\n",
    "    inertia = estimator.inertia_\n",
    "    print(\"Inertia: {}\".format(inertia))\n",
    "    # Score d'homogeneity \n",
    "    homogeneity = homogeneity_score(labels, estimator.labels_)\n",
    "    print(\"Homogeneity score: {}\".format(homogeneity))\n",
    "    return inertia, homogeneity"
   ]
  },
  {
   "cell_type": "code",
   "execution_count": 27,
   "id": "4ed4d805",
   "metadata": {},
   "outputs": [
    {
     "name": "stdout",
     "output_type": "stream",
     "text": [
      "Number of Clusters: 50\n",
      "Inertia: 260649.31558900804\n",
      "Homogeneity score: 0.29689648593686435\n",
      "Accuracy: 0.2623547529049419\n",
      "\n",
      "Number of Clusters: 90\n",
      "Inertia: 245602.4598271668\n",
      "Homogeneity score: 0.35754069969468466\n",
      "Accuracy: 0.3033739325213496\n",
      "\n",
      "Number of Clusters: 150\n",
      "Inertia: 230860.08408721606\n",
      "Homogeneity score: 0.4062769644473089\n",
      "Accuracy: 0.34229315413691724\n",
      "\n",
      "Number of Clusters: 200\n",
      "Inertia: 224004.67827118153\n",
      "Homogeneity score: 0.4359256928296782\n",
      "Accuracy: 0.3620327593448131\n",
      "\n",
      "Number of Clusters: 310\n",
      "Inertia: 213326.96220943378\n",
      "Homogeneity score: 0.47186291515617185\n",
      "Accuracy: 0.3858322833543329\n",
      "\n",
      "Number of Clusters: 430\n",
      "Inertia: 200938.77688006865\n",
      "Homogeneity score: 0.5063813899352138\n",
      "Accuracy: 0.4139717205655887\n",
      "\n"
     ]
    }
   ],
   "source": [
    "from sklearn.metrics import accuracy_score\n",
    "\n",
    "clusters = [50, 90, 150, 200, 310, 430]\n",
    "iner_list = []\n",
    "homo_list = []\n",
    "acc_list = []\n",
    "\n",
    "for n_clusters in clusters:\n",
    "    estimator = MiniBatchKMeans(n_clusters=n_clusters,batch_size = 1024)\n",
    "    estimator.fit(X)\n",
    "    \n",
    "    inertia, homo = calc_metrics(estimator, X, Y)\n",
    "    iner_list.append(inertia)\n",
    "    homo_list.append(homo)\n",
    "    \n",
    "    # Determine predicted labels\n",
    "    cluster_labels = infer_cluster_labels(estimator, Y)\n",
    "    prediction = infer_data_labels(estimator.labels_, cluster_labels)\n",
    "    \n",
    "    acc = accuracy_score(Y, prediction)\n",
    "    acc_list.append(acc)\n",
    "    print('Accuracy: {}\\n'.format(acc))"
   ]
  },
  {
   "cell_type": "markdown",
   "id": "78797a84",
   "metadata": {},
   "source": [
    "## Implémentation du modèle avec n_clusters=430"
   ]
  },
  {
   "cell_type": "code",
   "execution_count": 33,
   "id": "6f75ae21",
   "metadata": {},
   "outputs": [
    {
     "name": "stdout",
     "output_type": "stream",
     "text": [
      "Accuracy: 0.4150916981660367\n"
     ]
    }
   ],
   "source": [
    "kmeans = MiniBatchKMeans(n_clusters=430,batch_size = 1024)\n",
    "kmeans.fit(X)\n",
    "\n",
    "cluster_labels = infer_cluster_labels(kmeans, Y)\n",
    "\n",
    "test_clusters = kmeans.predict(X)\n",
    "prediction = infer_data_labels(kmeans.predict(X), cluster_labels)\n",
    "print('Accuracy: {}'.format(accuracy_score(Y, prediction)))"
   ]
  },
  {
   "cell_type": "markdown",
   "id": "99d4e040",
   "metadata": {},
   "source": [
    "### Visualisation des images réelles"
   ]
  },
  {
   "cell_type": "code",
   "execution_count": 30,
   "id": "582fb38d",
   "metadata": {},
   "outputs": [],
   "source": [
    "import matplotlib.pyplot as plt\n",
    "\n",
    "%matplotlib inline\n",
    "kmeans = MiniBatchKMeans(n_clusters = 430,batch_size = 1024)\n",
    "kmeans.fit(X)\n",
    "\n",
    "# record centroid values\n",
    "centroids = kmeans.cluster_centers_\n",
    "\n",
    "# reshape centroids into images\n",
    "images = centroids.reshape(430, 28, 28)\n",
    "images *= 255\n",
    "images = images.astype(np.uint8)\n",
    "\n",
    "# determine cluster labels\n",
    "cluster_labels = infer_cluster_labels(kmeans, Y)\n",
    "prediction = infer_data_labels(kmeans.predict(X), cluster_labels)\n",
    "\n"
   ]
  },
  {
   "cell_type": "code",
   "execution_count": 31,
   "id": "c7a2c01c",
   "metadata": {},
   "outputs": [
    {
     "data": {
      "text/plain": [
       "dict"
      ]
     },
     "execution_count": 31,
     "metadata": {},
     "output_type": "execute_result"
    }
   ],
   "source": [
    "# Create a dictionary that maps each integer value to the original categorical value\n",
    "dict = {i: value for value, i in value_to_int.items()}\n",
    "\n",
    "type(dict)"
   ]
  },
  {
   "cell_type": "code",
   "execution_count": 32,
   "id": "d7d1435c",
   "metadata": {},
   "outputs": [
    {
     "data": {
      "image/png": "[encoded data removed]",
      "text/plain": [
       "<Figure size 1440x1440 with 25 Axes>"
      ]
     },
     "metadata": {
      "needs_background": "light"
     },
     "output_type": "display_data"
    }
   ],
   "source": [
    "# create figure with subplots using matplotlib.pyplot\n",
    "fig, axs = plt.subplots(5, 5, figsize = (20, 20))\n",
    "plt.gray()\n",
    "\n",
    "# loop through subplots and add centroid images\n",
    "for i, ax in enumerate(axs.flat):\n",
    "    \n",
    "    # determine inferred label using cluster_labels dictionary\n",
    "    for key, value in cluster_labels.items():        \n",
    "        if i in value:\n",
    "            ax.set_title('\\nInferred Label: {}'.format(dict[key]), color='blue')\n",
    "    \n",
    "    # add image to subplot\n",
    "    ax.matshow(images[i])\n",
    "    ax.axis('off')\n",
    "    \n",
    "# display the figure\n",
    "plt.show()"
   ]
  },
  {
   "cell_type": "markdown",
   "id": "313970ae",
   "metadata": {},
   "source": [
    "## <font  color='red'> Amélioration du modèle avec ACP</font>\n"
   ]
  },
  {
   "cell_type": "code",
   "execution_count": 34,
   "id": "b74aedd7",
   "metadata": {},
   "outputs": [],
   "source": [
    "from PIL import Image\n",
    "import numpy as np\n",
    "import os\n",
    "\n",
    "# Créer une liste vide pour stocker les données d'images\n",
    "X = []\n",
    "\n",
    "# Créer une liste vide pour stocker les labels des images\n",
    "y = []\n",
    "\n",
    "# Parcourir tous les sous-dossiers de 'images'\n",
    "for root, dirs, files in os.walk('letters_arabic'):\n",
    "    # Récupérer le titre du sous-dossier (c'est-à-dire le label de chaque image)\n",
    "    label = os.path.basename(root)\n",
    "    \n",
    "    # Pour chaque fichier d'image dans le sous-dossier\n",
    "    for file in files:\n",
    "        # Charger l'image en mémoire\n",
    "        img = Image.open(os.path.join(root, file))\n",
    "        image_grayscale = img.convert('L')\n",
    "\n",
    "        # Convertir l'image en tableau NumPy en utilisant np.array()\n",
    "        image_array = np.array(image_grayscale)\n",
    "        # Convertir l'image en tableau NumPy et l'ajouter à la liste des données d'images\n",
    "        X.append(image_array)\n",
    "        \n",
    "        # Ajouter le label à la liste des labels des images\n",
    "        y.append(label)\n"
   ]
  },
  {
   "cell_type": "code",
   "execution_count": 35,
   "id": "3e4083fc",
   "metadata": {},
   "outputs": [],
   "source": [
    "import random\n",
    "\n",
    "\n",
    "# Créez une liste d'index qui correspond aux éléments de la liste\n",
    "indexes = list(range(len(X)))\n",
    "\n",
    "# Mélangez la liste d'index\n",
    "random.shuffle(indexes)\n",
    "\n",
    "# Mélangez les éléments de la liste en utilisant la liste d'index mélangée\n",
    "X = [X[i] for i in indexes]\n",
    "y = [y[i] for i in indexes]"
   ]
  },
  {
   "cell_type": "code",
   "execution_count": 37,
   "id": "1653ecbc",
   "metadata": {},
   "outputs": [],
   "source": [
    "# Create a dictionary that maps each categorical value to a unique integer\n",
    "value_to_int = {value: i for i, value in enumerate(set(y))}\n",
    "\n",
    "# Encode the categorical data using the dictionary\n",
    "Y_encoded = [value_to_int[y] for y in y]\n"
   ]
  },
  {
   "cell_type": "code",
   "execution_count": 38,
   "id": "f8c84ca1",
   "metadata": {},
   "outputs": [],
   "source": [
    "# Convertir les listes en tableaux NumPy\n",
    "X = np.array(X)\n",
    "Y= np.array(Y_encoded)\n",
    "\n",
    "#Conversion de chaque image en tableau de 1-dimension\n",
    "X = X.reshape(len(X),-1)\n",
    "\n",
    "# normalisation des données de 0-1 \n",
    "X = X.astype(float) / 255.\n"
   ]
  },
  {
   "cell_type": "code",
   "execution_count": 39,
   "id": "21c86c4c",
   "metadata": {},
   "outputs": [],
   "source": [
    "# Normaliser les données \n",
    "from sklearn.preprocessing import StandardScaler\n",
    "scaler = StandardScaler()\n",
    "X = scaler.fit_transform(X)\n",
    "\n",
    "# Supprimer le bruit de données\n",
    "from sklearn.decomposition import PCA\n",
    "pca = PCA(n_components=100, random_state=123)\n",
    "X = pca.fit_transform(X)\n"
   ]
  },
  {
   "cell_type": "code",
   "execution_count": 40,
   "id": "09a13cac",
   "metadata": {},
   "outputs": [
    {
     "name": "stdout",
     "output_type": "stream",
     "text": [
      "50\n"
     ]
    },
    {
     "data": {
      "text/html": [
       "<style>#sk-container-id-2 {color: black;background-color: white;}#sk-container-id-2 pre{padding: 0;}#sk-container-id-2 div.sk-toggleable {background-color: white;}#sk-container-id-2 label.sk-toggleable__label {cursor: pointer;display: block;width: 100%;margin-bottom: 0;padding: 0.3em;box-sizing: border-box;text-align: center;}#sk-container-id-2 label.sk-toggleable__label-arrow:before {content: \"▸\";float: left;margin-right: 0.25em;color: #696969;}#sk-container-id-2 label.sk-toggleable__label-arrow:hover:before {color: black;}#sk-container-id-2 div.sk-estimator:hover label.sk-toggleable__label-arrow:before {color: black;}#sk-container-id-2 div.sk-toggleable__content {max-height: 0;max-width: 0;overflow: hidden;text-align: left;background-color: #f0f8ff;}#sk-container-id-2 div.sk-toggleable__content pre {margin: 0.2em;color: black;border-radius: 0.25em;background-color: #f0f8ff;}#sk-container-id-2 input.sk-toggleable__control:checked~div.sk-toggleable__content {max-height: 200px;max-width: 100%;overflow: auto;}#sk-container-id-2 input.sk-toggleable__control:checked~label.sk-toggleable__label-arrow:before {content: \"▾\";}#sk-container-id-2 div.sk-estimator input.sk-toggleable__control:checked~label.sk-toggleable__label {background-color: #d4ebff;}#sk-container-id-2 div.sk-label input.sk-toggleable__control:checked~label.sk-toggleable__label {background-color: #d4ebff;}#sk-container-id-2 input.sk-hidden--visually {border: 0;clip: rect(1px 1px 1px 1px);clip: rect(1px, 1px, 1px, 1px);height: 1px;margin: -1px;overflow: hidden;padding: 0;position: absolute;width: 1px;}#sk-container-id-2 div.sk-estimator {font-family: monospace;background-color: #f0f8ff;border: 1px dotted black;border-radius: 0.25em;box-sizing: border-box;margin-bottom: 0.5em;}#sk-container-id-2 div.sk-estimator:hover {background-color: #d4ebff;}#sk-container-id-2 div.sk-parallel-item::after {content: \"\";width: 100%;border-bottom: 1px solid gray;flex-grow: 1;}#sk-container-id-2 div.sk-label:hover label.sk-toggleable__label {background-color: #d4ebff;}#sk-container-id-2 div.sk-serial::before {content: \"\";position: absolute;border-left: 1px solid gray;box-sizing: border-box;top: 0;bottom: 0;left: 50%;z-index: 0;}#sk-container-id-2 div.sk-serial {display: flex;flex-direction: column;align-items: center;background-color: white;padding-right: 0.2em;padding-left: 0.2em;position: relative;}#sk-container-id-2 div.sk-item {position: relative;z-index: 1;}#sk-container-id-2 div.sk-parallel {display: flex;align-items: stretch;justify-content: center;background-color: white;position: relative;}#sk-container-id-2 div.sk-item::before, #sk-container-id-2 div.sk-parallel-item::before {content: \"\";position: absolute;border-left: 1px solid gray;box-sizing: border-box;top: 0;bottom: 0;left: 50%;z-index: -1;}#sk-container-id-2 div.sk-parallel-item {display: flex;flex-direction: column;z-index: 1;position: relative;background-color: white;}#sk-container-id-2 div.sk-parallel-item:first-child::after {align-self: flex-end;width: 50%;}#sk-container-id-2 div.sk-parallel-item:last-child::after {align-self: flex-start;width: 50%;}#sk-container-id-2 div.sk-parallel-item:only-child::after {width: 0;}#sk-container-id-2 div.sk-dashed-wrapped {border: 1px dashed gray;margin: 0 0.4em 0.5em 0.4em;box-sizing: border-box;padding-bottom: 0.4em;background-color: white;}#sk-container-id-2 div.sk-label label {font-family: monospace;font-weight: bold;display: inline-block;line-height: 1.2em;}#sk-container-id-2 div.sk-label-container {text-align: center;}#sk-container-id-2 div.sk-container {/* jupyter's `normalize.less` sets `[hidden] { display: none; }` but bootstrap.min.css set `[hidden] { display: none !important; }` so we also need the `!important` here to be able to override the default hidden behavior on the sphinx rendered scikit-learn.org. See: https://github.com/scikit-learn/scikit-learn/issues/21755 */display: inline-block !important;position: relative;}#sk-container-id-2 div.sk-text-repr-fallback {display: none;}</style><div id=\"sk-container-id-2\" class=\"sk-top-container\"><div class=\"sk-text-repr-fallback\"><pre>MiniBatchKMeans(n_clusters=50)</pre><b>In a Jupyter environment, please rerun this cell to show the HTML representation or trust the notebook. <br />On GitHub, the HTML representation is unable to render, please try loading this page with nbviewer.org.</b></div><div class=\"sk-container\" hidden><div class=\"sk-item\"><div class=\"sk-estimator sk-toggleable\"><input class=\"sk-toggleable__control sk-hidden--visually\" id=\"sk-estimator-id-2\" type=\"checkbox\" checked><label for=\"sk-estimator-id-2\" class=\"sk-toggleable__label sk-toggleable__label-arrow\">MiniBatchKMeans</label><div class=\"sk-toggleable__content\"><pre>MiniBatchKMeans(n_clusters=50)</pre></div></div></div></div></div>"
      ],
      "text/plain": [
       "MiniBatchKMeans(n_clusters=50)"
      ]
     },
     "execution_count": 40,
     "metadata": {},
     "output_type": "execute_result"
    }
   ],
   "source": [
    "from sklearn.cluster import MiniBatchKMeans\n",
    "\n",
    "n_digits = len(np.unique(Y))\n",
    "print(n_digits)\n",
    "\n",
    "# Initialisation du modèle \n",
    "kmeans = MiniBatchKMeans(n_clusters = n_digits,batch_size = 1024)\n",
    "\n",
    "# Ajuster le modèle aux données d'entrainement\n",
    "kmeans.fit(X)"
   ]
  },
  {
   "cell_type": "code",
   "execution_count": 41,
   "id": "a7d685a2",
   "metadata": {},
   "outputs": [],
   "source": [
    "def infer_cluster_labels(kmeans, actual_labels):\n",
    "    \"\"\"\n",
    "    Associe l'étiquette la plus probable à chaque cluster dans le modèle KMeans\n",
    "    renvoie : dictionnaire des clusters attribués à chaque étiquette\n",
    "    \"\"\"\n",
    "    # variable contient les étiquettes déduit\n",
    "    inferred_labels = {}\n",
    "\n",
    "    for i in range(kmeans.n_clusters):\n",
    "\n",
    "        # iterer sur chaque cluster et trouver les indices de chaque cluster \n",
    "        # l'objectif c'est grouper les elements de chaque cluster \n",
    "        labels = []\n",
    "        index = np.where(kmeans.labels_ == i)\n",
    "\n",
    "        # associer l'étiquettes réelles pour chaque point du cluster\n",
    "        labels.append(actual_labels[index])\n",
    "\n",
    "        # déterminer l'étiquette la plus fréquente\n",
    "        if len(labels[0]) == 1:\n",
    "            counts = np.bincount(labels[0])\n",
    "        else:\n",
    "            counts = np.bincount(np.squeeze(labels))\n",
    "\n",
    "        # affecter le cluster à une valeur dans le dictionnaire des étiquettes déduit\n",
    "        if np.argmax(counts) in inferred_labels:\n",
    "            # ajouter le nouveau numéro au tableau existant à cet emplacement\n",
    "            inferred_labels[np.argmax(counts)].append(i)\n",
    "        else:\n",
    "            # créer un nouveau tableau dans cet emplacement\n",
    "            inferred_labels[np.argmax(counts)] = [i]\n",
    "        \n",
    "    return inferred_labels  \n",
    "\n",
    "def infer_data_labels(X_labels, cluster_labels):\n",
    "    \"\"\"\n",
    "    Détermine l'étiquette de chaque tableau , en fonction du cluster auquel elle a été attribuée.\n",
    "    renvoie : étiquettes prédites pour chaque tableau\n",
    "    \"\"\"\n",
    "    \n",
    "    # tableau vide remplie par des zero\n",
    "    predicted_labels = np.zeros(len(X_labels)).astype(np.uint8)\n",
    "    \n",
    "    for i, cluster in enumerate(X_labels):\n",
    "        for key, value in cluster_labels.items():\n",
    "            if cluster in value:\n",
    "                predicted_labels[i] = key\n",
    "                \n",
    "    return predicted_labels\n"
   ]
  },
  {
   "cell_type": "code",
   "execution_count": 42,
   "id": "83873940",
   "metadata": {},
   "outputs": [],
   "source": [
    "from sklearn.metrics import homogeneity_score\n",
    "\n",
    "def calc_metrics(estimator, data, labels):\n",
    "    print('Number of Clusters: {}'.format(estimator.n_clusters))\n",
    "    # Inertie\n",
    "    inertia = estimator.inertia_\n",
    "    print(\"Inertia: {}\".format(inertia))\n",
    "    # Score d'homogeneity \n",
    "    homogeneity = homogeneity_score(labels, estimator.labels_)\n",
    "    print(\"Homogeneity score: {}\".format(homogeneity))\n",
    "    return inertia, homogeneity"
   ]
  },
  {
   "cell_type": "code",
   "execution_count": 45,
   "id": "617cae47",
   "metadata": {},
   "outputs": [
    {
     "name": "stdout",
     "output_type": "stream",
     "text": [
      "Number of Clusters: 50\n",
      "Inertia: 2828185.6486146194\n",
      "Homogeneity score: 0.2820353006911082\n",
      "Accuracy: 0.23883522329553408\n",
      "\n",
      "Number of Clusters: 150\n",
      "Inertia: 2359941.3563515544\n",
      "Homogeneity score: 0.39935733412066743\n",
      "Accuracy: 0.3226935461290774\n",
      "\n",
      "Number of Clusters: 250\n",
      "Inertia: 2128094.4035609136\n",
      "Homogeneity score: 0.467455026043361\n",
      "Accuracy: 0.374212515749685\n",
      "\n",
      "Number of Clusters: 430\n",
      "Inertia: 1894949.6872990262\n",
      "Homogeneity score: 0.5341783046307594\n",
      "Accuracy: 0.4239115217695646\n",
      "\n",
      "Number of Clusters: 560\n",
      "Inertia: 1813373.0668932726\n",
      "Homogeneity score: 0.5671959817684713\n",
      "Accuracy: 0.4465910681786364\n",
      "\n",
      "Number of Clusters: 640\n",
      "Inertia: 1696262.2988369693\n",
      "Homogeneity score: 0.5950021848061436\n",
      "Accuracy: 0.4747305053898922\n",
      "\n"
     ]
    }
   ],
   "source": [
    "from sklearn.metrics import accuracy_score\n",
    "\n",
    "clusters = [50, 150, 250, 430, 560,640]\n",
    "iner_list = []\n",
    "homo_list = []\n",
    "acc_list = []\n",
    "\n",
    "for n_clusters in clusters:\n",
    "    estimator = MiniBatchKMeans(n_clusters=n_clusters,batch_size = 1024)\n",
    "    estimator.fit(X)\n",
    "    \n",
    "    inertia, homo = calc_metrics(estimator, X, Y)\n",
    "    iner_list.append(inertia)\n",
    "    homo_list.append(homo)\n",
    "    \n",
    "    # Determine predicted labels\n",
    "    cluster_labels = infer_cluster_labels(estimator, Y)\n",
    "    prediction = infer_data_labels(estimator.labels_, cluster_labels)\n",
    "    \n",
    "    acc = accuracy_score(Y, prediction)\n",
    "    acc_list.append(acc)\n",
    "    print('Accuracy: {}\\n'.format(acc))"
   ]
  },
  {
   "cell_type": "code",
   "execution_count": 61,
   "id": "349de5f4",
   "metadata": {},
   "outputs": [
    {
     "name": "stdout",
     "output_type": "stream",
     "text": [
      "Accuracy: 0.4643707125857483\n"
     ]
    }
   ],
   "source": [
    "kmeans = MiniBatchKMeans(n_clusters=640,batch_size = 1024)\n",
    "kmeans.fit(X)\n",
    "\n",
    "cluster_labels = infer_cluster_labels(kmeans, Y)\n",
    "\n",
    "test_clusters = kmeans.predict(X)\n",
    "prediction = infer_data_labels(kmeans.predict(X), cluster_labels)\n",
    "print('Accuracy: {}'.format(accuracy_score(Y, prediction)))"
   ]
  }
 ],
 "metadata": {
  "kernelspec": {
   "display_name": "Python 3",
   "language": "python",
   "name": "python3"
  },
  "language_info": {
   "codemirror_mode": {
    "name": "ipython",
    "version": 3
   },
   "file_extension": ".py",
   "mimetype": "text/x-python",
   "name": "python",
   "nbconvert_exporter": "python",
   "pygments_lexer": "ipython3",
   "version": "3.8.8"
  }
 },
 "nbformat": 4,
 "nbformat_minor": 5
}
